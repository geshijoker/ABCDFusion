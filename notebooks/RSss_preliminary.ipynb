{
 "cells": [
  {
   "cell_type": "code",
   "execution_count": null,
   "id": "772d2995",
   "metadata": {},
   "outputs": [],
   "source": [
    "%load_ext autoreload\n",
    "%autoreload 2"
   ]
  },
  {
   "cell_type": "code",
   "execution_count": null,
   "id": "5a03dd36",
   "metadata": {},
   "outputs": [],
   "source": [
    "import os\n",
    "import sys\n",
    "import time\n",
    "import datetime\n",
    "import csv\n",
    "import yaml\n",
    "import configparser\n",
    "import copy\n",
    "import math \n",
    "import random\n",
    "import warnings\n",
    "warnings.filterwarnings('ignore')"
   ]
  },
  {
   "cell_type": "code",
   "execution_count": null,
   "id": "66df32a7",
   "metadata": {},
   "outputs": [],
   "source": [
    "import pandas as pd\n",
    "import numpy as np\n",
    "import sklearn\n",
    "import matplotlib\n",
    "# mpl.use('Agg')\n",
    "%matplotlib inline\n",
    "# %matplotlib notebook\n",
    "from matplotlib import pyplot as plt \n",
    "from matplotlib.colors import ListedColormap\n",
    "\n",
    "matplotlib.rcParams['lines.linewidth'] = 1\n",
    "matplotlib.rcParams['lines.markersize'] = 5"
   ]
  },
  {
   "cell_type": "markdown",
   "id": "7847fd21",
   "metadata": {},
   "source": [
    "# 1. Data Loading"
   ]
  },
  {
   "cell_type": "code",
   "execution_count": null,
   "id": "bd1ba9f3",
   "metadata": {},
   "outputs": [],
   "source": [
    "ROOT_PATH = '../'\n",
    "try: \n",
    "    os.chdir(ROOT_PATH)\n",
    "    sys.path.insert(0, ROOT_PATH)\n",
    "    print(\"Current working directory: {}\".format(os.getcwd()))\n",
    "except Exception:\n",
    "    print(\"Directory: {} is not valid\".format(ROOT_PATH))\n",
    "    sys.exit(1)"
   ]
  },
  {
   "cell_type": "code",
   "execution_count": null,
   "id": "7962c018",
   "metadata": {},
   "outputs": [],
   "source": [
    "# load and parse config \n",
    "config_file = './configs.yaml'\n",
    "with open(config_file, 'r') as infile:\n",
    "    try:\n",
    "        configs = yaml.safe_load(infile)\n",
    "    except yaml.YAMLError as exc:\n",
    "        sys.exit(exc)"
   ]
  },
  {
   "cell_type": "code",
   "execution_count": null,
   "id": "33a179cc",
   "metadata": {},
   "outputs": [],
   "source": [
    "auxiliary = configs['Auxiliary']\n",
    "hyper_params = configs['HyperParams']\n",
    "\n",
    "DATA_PATH = auxiliary['DATA_PATH']\n",
    "RSss_DATA = auxiliary['RSss_DATA'] \n",
    "OUTCOME = auxiliary['OUTCOME']\n",
    "\n",
    "test_size = hyper_params['valid_size']\n",
    "num_splits = hyper_params['num_splits']\n",
    "seed = hyper_params['seed']"
   ]
  },
  {
   "cell_type": "code",
   "execution_count": null,
   "id": "4f8ecfb7",
   "metadata": {},
   "outputs": [],
   "source": [
    "df_data = pd.read_csv(os.path.join(DATA_PATH, RSss_DATA))\n",
    "df_labels = pd.read_csv(os.path.join(DATA_PATH, OUTCOME))"
   ]
  },
  {
   "cell_type": "code",
   "execution_count": null,
   "id": "428105eb",
   "metadata": {},
   "outputs": [],
   "source": [
    "df_data.head()"
   ]
  },
  {
   "cell_type": "code",
   "execution_count": null,
   "id": "eda6d3af",
   "metadata": {},
   "outputs": [],
   "source": [
    "df_labels.head()"
   ]
  },
  {
   "cell_type": "code",
   "execution_count": null,
   "id": "3d2a0967",
   "metadata": {},
   "outputs": [],
   "source": [
    "X = df_data.iloc[:,2:].values\n",
    "y = df_labels.iloc[:,1].values\n",
    "classes = [0, 1]"
   ]
  },
  {
   "cell_type": "markdown",
   "id": "9aa1e0db",
   "metadata": {},
   "source": [
    "# 2. Machine Learning"
   ]
  },
  {
   "cell_type": "markdown",
   "id": "272de373",
   "metadata": {},
   "source": [
    "## 2.1 Define Classifiers"
   ]
  },
  {
   "cell_type": "code",
   "execution_count": null,
   "id": "3542808f",
   "metadata": {},
   "outputs": [],
   "source": [
    "from sklearn.model_selection import train_test_split, StratifiedKFold\n",
    "from sklearn.discriminant_analysis import QuadraticDiscriminantAnalysis\n",
    "from sklearn.ensemble import AdaBoostClassifier, RandomForestClassifier\n",
    "from sklearn.gaussian_process import GaussianProcessClassifier\n",
    "from sklearn.gaussian_process.kernels import RBF\n",
    "from sklearn.inspection import DecisionBoundaryDisplay\n",
    "from sklearn.naive_bayes import GaussianNB\n",
    "from sklearn.neighbors import KNeighborsClassifier\n",
    "from sklearn.neural_network import MLPClassifier\n",
    "from sklearn.pipeline import make_pipeline\n",
    "from sklearn.preprocessing import StandardScaler\n",
    "from sklearn.svm import SVC\n",
    "from sklearn.tree import DecisionTreeClassifier\n",
    "from sklearn.metrics import RocCurveDisplay, roc_curve, PrecisionRecallDisplay, precision_recall_curve, ConfusionMatrixDisplay, confusion_matrix, auc\n",
    "from sklearn.metrics import precision_recall_fscore_support as score\n",
    "from sklearn.metrics import accuracy_score, f1_score, precision_score, recall_score, classification_report"
   ]
  },
  {
   "cell_type": "code",
   "execution_count": null,
   "id": "742f220f",
   "metadata": {},
   "outputs": [],
   "source": [
    "import umap"
   ]
  },
  {
   "cell_type": "code",
   "execution_count": null,
   "id": "084a6bb0",
   "metadata": {},
   "outputs": [],
   "source": [
    "names = [\n",
    "    \"Nearest Neighbors\",\n",
    "    \"Linear SVM\",\n",
    "    \"RBF SVM\",\n",
    "    \"Gaussian Process\",\n",
    "    \"Decision Tree\",\n",
    "    \"Random Forest\",\n",
    "    \"Neural Net\",\n",
    "    \"AdaBoost\",\n",
    "    \"Naive Bayes\",\n",
    "    \"QDA\",\n",
    "]"
   ]
  },
  {
   "cell_type": "code",
   "execution_count": null,
   "id": "71cfafb5",
   "metadata": {},
   "outputs": [],
   "source": [
    "rng = np.random.RandomState(seed)"
   ]
  },
  {
   "cell_type": "code",
   "execution_count": null,
   "id": "3f92c6f9",
   "metadata": {},
   "outputs": [],
   "source": [
    "classifiers = [\n",
    "    KNeighborsClassifier(5),\n",
    "    SVC(kernel=\"linear\", C=0.025, random_state=seed),\n",
    "    SVC(gamma=2, C=1, random_state=seed),\n",
    "    GaussianProcessClassifier(1.0 * RBF(1.0), random_state=seed),\n",
    "    DecisionTreeClassifier(max_depth=5, random_state=seed),\n",
    "    RandomForestClassifier(\n",
    "        max_depth=5, n_estimators=10, max_features=1, random_state=seed\n",
    "    ),\n",
    "    MLPClassifier(alpha=1, max_iter=1000, random_state=seed),\n",
    "    AdaBoostClassifier(random_state=seed),\n",
    "    GaussianNB(),\n",
    "    QuadraticDiscriminantAnalysis(),\n",
    "]"
   ]
  },
  {
   "cell_type": "markdown",
   "id": "98bc0908",
   "metadata": {},
   "source": [
    "## 2.2 Visualize Data Distribution and Do Simple Test"
   ]
  },
  {
   "cell_type": "code",
   "execution_count": null,
   "id": "4222c7ee",
   "metadata": {
    "scrolled": false
   },
   "outputs": [],
   "source": [
    "reducer = umap.UMAP()\n",
    "X_embedding = reducer.fit_transform(X)\n",
    "\n",
    "X_train, X_test, y_train, y_test, Xm_train, Xm_test = train_test_split(\n",
    "    X, y, X_embedding, test_size=test_size, random_state=seed\n",
    ")\n",
    "\n",
    "x_min, x_max = X_embedding[:, 0].min(), X_embedding[:, 0].max()\n",
    "y_min, y_max = X_embedding[:, 1].min(), X_embedding[:, 1].max()\n",
    "\n",
    "reducer = umap.UMAP()\n",
    "# just plot the dataset first\n",
    "cm = plt.cm.RdBu\n",
    "cm_bright = ListedColormap([\"#FF0000\", \"#0000FF\"])\n",
    "\n",
    "fig, ax = plt.subplots(figsize=(7, 7))\n",
    "ax.set_title(\"Input data\")    \n",
    "# Plot the training points\n",
    "ax.scatter(Xm_train[:, 0], Xm_train[:, 1], c=y_train, cmap=cm_bright, alpha=0.3, edgecolors=\"k\")\n",
    "# Plot the testing points\n",
    "ax.scatter(\n",
    "    Xm_test[:, 0], Xm_test[:, 1], c=y_test, cmap=cm_bright, alpha=0.6, edgecolors=\"k\"\n",
    ")\n",
    "\n",
    "ax.set_xlim(x_min, x_max)\n",
    "ax.set_ylim(y_min, y_max)\n",
    "ax.set_xticks(())\n",
    "ax.set_yticks(())\n",
    "plt.show()\n",
    "\n",
    "# iterate over classifiers\n",
    "for name, clf in zip(names, classifiers):\n",
    "    \n",
    "    print('Train classifier {}'.format(name))\n",
    "    clf = make_pipeline(StandardScaler(), clf)\n",
    "    # clf = make_pipeline(clf)\n",
    "    clf.fit(X_train, y_train)\n",
    "    y_pred = clf.predict(X_test)\n",
    "    \n",
    "    # Calcute statistics\n",
    "    precision, recall, fscore, support = score(y_test, y_pred)    \n",
    "\n",
    "    print('| {:^6} | {:^6} | {:^6} | {:^6} | {:^6} |'.format('classes', 'precision', 'recall', 'fscore', 'support'))\n",
    "    for cla, pre, rec, f1, sup in zip(classes, precision, recall, fscore, support):\n",
    "        print('|  {:^6} |  {:^.3f}  |  {:^.3f}  |  {:^.3f}  |  {:^6} |'.format(cla, pre, rec, f1, sup))\n",
    "        \n",
    "    test_fscore = f1_score(y_test, y_pred, average='micro')\n",
    "    print('micro f1 score is {:.4f}'.format(test_fscore))\n",
    "    test_cfm = confusion_matrix(y_test, y_pred)\n",
    "    print('confusion matrix is \\n', test_cfm)\n",
    "    \n",
    "    # Display curves\n",
    "    try:\n",
    "        y_score = clf.decision_function(X_test)\n",
    "        ## ROC curve\n",
    "        fpr, tpr, _ = roc_curve(y_test, y_score, pos_label=clf.classes_[1])\n",
    "        roc_display = RocCurveDisplay(fpr=fpr, tpr=tpr)\n",
    "        ## precision recall curve\n",
    "        prec, recall, _ = precision_recall_curve(y_test, y_score, pos_label=clf.classes_[1])\n",
    "        pr_display = PrecisionRecallDisplay(precision=prec, recall=recall)\n",
    "        ## visualization\n",
    "        fig, (ax1, ax2) = plt.subplots(1, 2, figsize=(10, 6))\n",
    "        roc_display.plot(ax=ax1)\n",
    "        pr_display.plot(ax=ax2)\n",
    "        plt.show()\n",
    "    except:\n",
    "        continue"
   ]
  },
  {
   "cell_type": "markdown",
   "id": "66d0d8f7",
   "metadata": {},
   "source": [
    "## 2.2 Cross Validation"
   ]
  },
  {
   "cell_type": "code",
   "execution_count": null,
   "id": "7b20d76e",
   "metadata": {},
   "outputs": [],
   "source": [
    "cv = StratifiedKFold(n_splits=num_splits)\n",
    "# pick one from classifiers\n",
    "classifier = classifiers[7]\n",
    "clf = make_pipeline(StandardScaler(), classifier)\n",
    "# classifier = svm.SVC(kernel=\"linear\", probability=True, random_state=random_state)\n",
    "# pick one from classifiers"
   ]
  },
  {
   "cell_type": "code",
   "execution_count": null,
   "id": "80a2cc77",
   "metadata": {},
   "outputs": [],
   "source": [
    "tprs = []\n",
    "aucs = []\n",
    "yis = []\n",
    "mean_fpr = np.linspace(0, 1, 100)\n",
    "\n",
    "fig, ax = plt.subplots(figsize=(6, 6))\n",
    "for fold, (train, test) in enumerate(cv.split(X, y)):\n",
    "    clf.fit(X[train], y[train])\n",
    "    \n",
    "    y_score = clf.decision_function(X[test])\n",
    "    fpr, tpr, thresholds =roc_curve(y[test], y_score, pos_label=clf.classes_[1])\n",
    "    roc_auc = auc(fpr, tpr)\n",
    "    \n",
    "    i = np.arange(len(tpr))\n",
    "    roc = pd.DataFrame({'fpr' : pd.Series(fpr, index=i),'tpr' : pd.Series(tpr, index = i), '1-fpr' : pd.Series(1-fpr, index = i), 'ass' : pd.Series((tpr + (1-fpr))/2, index = i), 'thresholds' : pd.Series(thresholds, index = i)})\n",
    "    yi = roc.iloc[(-roc['ass']).argsort()[:1]]\n",
    "    print(yi)\n",
    "    yis.append(yi['ass'].iloc[0])\n",
    "    \n",
    "    viz = RocCurveDisplay.from_estimator(\n",
    "        clf,\n",
    "        X[test],\n",
    "        y[test],\n",
    "        name=f\"ROC fold {fold}\",\n",
    "        alpha=0.3,\n",
    "        lw=1,\n",
    "        ax=ax,\n",
    "        plot_chance_level=(fold == num_splits - 1),\n",
    "    )\n",
    "    interp_tpr = np.interp(mean_fpr, viz.fpr, viz.tpr)\n",
    "    interp_tpr[0] = 0.0\n",
    "    tprs.append(interp_tpr)\n",
    "    aucs.append(viz.roc_auc)\n",
    "\n",
    "mean_tpr = np.mean(tprs, axis=0)\n",
    "mean_tpr[-1] = 1.0\n",
    "mean_auc = auc(mean_fpr, mean_tpr)\n",
    "mean_yi = np.mean(yis)\n",
    "std_auc = np.std(aucs)\n",
    "ax.plot(\n",
    "    mean_fpr,\n",
    "    mean_tpr,\n",
    "    color=\"b\",\n",
    "    label=r\"Mean ROC (AUC = %0.2f $\\pm$ %0.2f)\" % (mean_auc, std_auc),\n",
    "    lw=2,\n",
    "    alpha=0.8,\n",
    ")\n",
    "\n",
    "std_tpr = np.std(tprs, axis=0)\n",
    "tprs_upper = np.minimum(mean_tpr + std_tpr, 1)\n",
    "tprs_lower = np.maximum(mean_tpr - std_tpr, 0)\n",
    "ax.fill_between(\n",
    "    mean_fpr,\n",
    "    tprs_lower,\n",
    "    tprs_upper,\n",
    "    color=\"grey\",\n",
    "    alpha=0.2,\n",
    "    label=r\"$\\pm$ 1 std. dev.\",\n",
    ")\n",
    "\n",
    "ax.set(\n",
    "    xlim=[-0.05, 1.05],\n",
    "    ylim=[-0.05, 1.05],\n",
    "    xlabel=\"False Positive Rate\",\n",
    "    ylabel=\"True Positive Rate\",\n",
    "    title=f\"Mean ROC curve with variability\\n(Positive label '{classes[1]}')\\n Average of sensitivity and specificity {mean_yi:.2f}\",\n",
    ")\n",
    "ax.axis(\"square\")\n",
    "ax.legend(loc=\"lower right\")\n",
    "plt.show()"
   ]
  },
  {
   "cell_type": "code",
   "execution_count": null,
   "id": "99ab7f97",
   "metadata": {},
   "outputs": [],
   "source": []
  }
 ],
 "metadata": {
  "kernelspec": {
   "display_name": "Python 3",
   "language": "python",
   "name": "python3"
  },
  "language_info": {
   "codemirror_mode": {
    "name": "ipython",
    "version": 3
   },
   "file_extension": ".py",
   "mimetype": "text/x-python",
   "name": "python",
   "nbconvert_exporter": "python",
   "pygments_lexer": "ipython3",
   "version": "3.8.10"
  }
 },
 "nbformat": 4,
 "nbformat_minor": 5
}
