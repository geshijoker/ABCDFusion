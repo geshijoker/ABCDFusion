{
 "cells": [
  {
   "cell_type": "code",
   "execution_count": 1,
   "id": "61bec727",
   "metadata": {},
   "outputs": [],
   "source": [
    "import os\n",
    "import errno\n",
    "import sys\n",
    "import time"
   ]
  },
  {
   "cell_type": "code",
   "execution_count": 2,
   "id": "a598a1a8",
   "metadata": {},
   "outputs": [],
   "source": [
    "import pandas as pd\n",
    "import sklearn \n",
    "import numpy as np\n",
    "import matplotlib.pyplot as plt"
   ]
  },
  {
   "cell_type": "code",
   "execution_count": 3,
   "id": "a98d5353",
   "metadata": {},
   "outputs": [],
   "source": [
    "ROOT_PATH = '../'\n",
    "ORIGINAL_DATA = 'data/RawData.xlsx'"
   ]
  },
  {
   "cell_type": "code",
   "execution_count": 4,
   "id": "2493bef6",
   "metadata": {},
   "outputs": [],
   "source": [
    "orig_data_path = os.path.join(ROOT_PATH, ORIGINAL_DATA)"
   ]
  },
  {
   "cell_type": "code",
   "execution_count": 5,
   "id": "58b87da0",
   "metadata": {},
   "outputs": [],
   "source": [
    "if os.path.isfile(orig_data_path):\n",
    "    dfs = pd.read_excel(orig_data_path, sheet_name=None)\n",
    "else:\n",
    "    raise FileNotFoundError(errno.ENOENT, os.strerror(errno.ENOENT), orig_data_path)"
   ]
  },
  {
   "cell_type": "code",
   "execution_count": 6,
   "id": "388adf75",
   "metadata": {},
   "outputs": [
    {
     "data": {
      "text/plain": [
       "dict_keys(['otherdata', 'RestingState', 'Corticalthickness', 'DTIconnectivity', 'outcome'])"
      ]
     },
     "execution_count": 6,
     "metadata": {},
     "output_type": "execute_result"
    }
   ],
   "source": [
    "sheet_names = dfs.keys()\n",
    "print('The loaded panda frames are', sheet_names)"
   ]
  },
  {
   "cell_type": "markdown",
   "id": "155f92e1",
   "metadata": {},
   "source": [
    "# Inspect outcome"
   ]
  },
  {
   "cell_type": "code",
   "execution_count": 7,
   "id": "12fea82d",
   "metadata": {},
   "outputs": [
    {
     "name": "stdout",
     "output_type": "stream",
     "text": [
      "The DataFrame has 3946 rows.\n",
      "The DataFrame has 10 features.\n"
     ]
    }
   ],
   "source": [
    "row_count = len(dfs['outcome'])\n",
    "print(f'The DataFrame has {row_count} rows.')\n",
    "column_names = list(dfs['outcome'].columns.values)\n",
    "print(f'The DataFrame has {len(column_names)-1} features.')"
   ]
  },
  {
   "cell_type": "code",
   "execution_count": 8,
   "id": "db5edfde",
   "metadata": {},
   "outputs": [
    {
     "name": "stdout",
     "output_type": "stream",
     "text": [
      "   Unnamed: 0    src_subject_id  becomeCHR_3yr  diffusivity_all fibers_site  \\\n",
      "0           0  NDAR_INV00CY2MDM              0                     0.516813   \n",
      "1           1  NDAR_INV00HEV6HB              0                     0.504674   \n",
      "2           2  NDAR_INV014RTM1V              0                     0.499351   \n",
      "3           3  NDAR_INV01AJ15N9              0                     0.499413   \n",
      "4           4  NDAR_INV01NAYMZH              0                     0.484313   \n",
      "\n",
      "   diffusivity_L_ hemisphere fibers_site  \\\n",
      "0                               0.516055   \n",
      "1                               0.503342   \n",
      "2                               0.493832   \n",
      "3                               0.497758   \n",
      "4                               0.482630   \n",
      "\n",
      "   diffusivity_L_ hemisphere fibers without corpus callosum_site  \\\n",
      "0                                           0.516193               \n",
      "1                                           0.503085               \n",
      "2                                           0.500397               \n",
      "3                                           0.503652               \n",
      "4                                           0.486149               \n",
      "\n",
      "   diffusivity_R_hemisphere fibers without corpus callosum_site  \\\n",
      "0                                           0.515086              \n",
      "1                                           0.507389              \n",
      "2                                           0.511758              \n",
      "3                                           0.508636              \n",
      "4                                           0.488122              \n",
      "\n",
      "   diffusivity_R_hemisphere fibers_site  CortThk_L_mean_agesexsite  \\\n",
      "0                              0.516470                   2.692631   \n",
      "1                              0.504825                   2.557290   \n",
      "2                              0.501866                   2.630886   \n",
      "3                              0.501104                   2.798921   \n",
      "4                              0.484919                   2.598179   \n",
      "\n",
      "   CortThk_R_mean_agesexsite  CortThkcortical Destrieux ROI mean_agesexsite  \n",
      "0                   2.718348                                       2.703962  \n",
      "1                   2.649288                                       2.664290  \n",
      "2                   2.585186                                       2.647286  \n",
      "3                   2.781255                                       2.795671  \n",
      "4                   2.620402                                       2.604037  \n"
     ]
    }
   ],
   "source": [
    "data_top = dfs['outcome'].head()\n",
    "print(data_top)"
   ]
  },
  {
   "cell_type": "code",
   "execution_count": 9,
   "id": "58f57c99",
   "metadata": {},
   "outputs": [
    {
     "name": "stdout",
     "output_type": "stream",
     "text": [
      "Unnamed: 0                                                       0\n",
      "src_subject_id                                                   0\n",
      "becomeCHR_3yr                                                    0\n",
      "diffusivity_all fibers_site                                      0\n",
      "diffusivity_L_ hemisphere fibers_site                            0\n",
      "diffusivity_L_ hemisphere fibers without corpus callosum_site    0\n",
      "diffusivity_R_hemisphere fibers without corpus callosum_site     0\n",
      "diffusivity_R_hemisphere fibers_site                             0\n",
      "CortThk_L_mean_agesexsite                                        0\n",
      "CortThk_R_mean_agesexsite                                        0\n",
      "CortThkcortical Destrieux ROI mean_agesexsite                    0\n",
      "dtype: int64\n"
     ]
    }
   ],
   "source": [
    "column_nan_counts = dfs['outcome'].isna().sum()\n",
    "print(column_nan_counts)"
   ]
  },
  {
   "cell_type": "code",
   "execution_count": 10,
   "id": "d320211a",
   "metadata": {},
   "outputs": [
    {
     "name": "stdout",
     "output_type": "stream",
     "text": [
      "There are duplicated subjects False\n"
     ]
    }
   ],
   "source": [
    "print('There are duplicated subjects {}'.format(dfs['outcome']['src_subject_id'].duplicated().any()))"
   ]
  },
  {
   "cell_type": "markdown",
   "id": "5a93fa5d",
   "metadata": {},
   "source": [
    "# Inspect DTIconnectivity"
   ]
  },
  {
   "cell_type": "code",
   "execution_count": 11,
   "id": "70f1412e",
   "metadata": {},
   "outputs": [
    {
     "name": "stdout",
     "output_type": "stream",
     "text": [
      "The DataFrame has 7266 rows.\n",
      "The DataFrame has 36 features.\n"
     ]
    }
   ],
   "source": [
    "row_count = len(dfs['DTIconnectivity'])\n",
    "print(f'The DataFrame has {row_count} rows.')\n",
    "column_names = list(dfs['DTIconnectivity'].columns.values)\n",
    "print(f'The DataFrame has {len(column_names)-1} features.')"
   ]
  },
  {
   "cell_type": "code",
   "execution_count": 12,
   "id": "c1b3fabf",
   "metadata": {},
   "outputs": [],
   "source": [
    "data_top = dfs['DTIconnectivity'].head()\n",
    "# print(data_top)"
   ]
  },
  {
   "cell_type": "code",
   "execution_count": 13,
   "id": "833b1d5a",
   "metadata": {},
   "outputs": [
    {
     "name": "stdout",
     "output_type": "stream",
     "text": [
      "Unnamed: 0                               0\n",
      "src_subject_id                           0\n",
      "imgincl_dmri_include                     0\n",
      "age                                      0\n",
      "sex_1isM                                 0\n",
      "site                                     0\n",
      "FA_cingulatecingulum_R                   0\n",
      "FA_CinguluteCingulum_L                   0\n",
      "FA_corpuscallosum                        0\n",
      "FA_Corticospinal_L                       0\n",
      "FA_Corticospinal_R                       0\n",
      "FA_forecepsmajor                         0\n",
      "FA_forecepsminor                         0\n",
      "FA_Fornix_L                              0\n",
      "FA_Fornix_R                              0\n",
      "FA_IFC_SupFrontal_L                      0\n",
      "FA_IFC_SupFrontal_R                      0\n",
      "FA_inferiorfrontooccipitalfasiculus_L    0\n",
      "FA_inferiorfrontooccipitalfasiculus_R    0\n",
      "FA_inferiorlongfascic_L                  0\n",
      "FA_inferiorlongfascic_R                  0\n",
      "FA_ParahippocampalCingulum_L             0\n",
      "FA_ParahippocampalCingulum_R             0\n",
      "FA_parietalSLF_L                         0\n",
      "FA_parietalSLF_R                         0\n",
      "FA_temporalSLF_L                         0\n",
      "FA_temporalSLF_R                         0\n",
      "FA_striatal_IFC_L                        0\n",
      "FA_striatal_IFC_R                        0\n",
      "FA_superiorcorticalstriate_Frontal_L     0\n",
      "FA_superiorcorticalstriate_Frontal_R     0\n",
      "FA_superiorcorticalstriate_Parietal_L    0\n",
      "FA_superiorcorticalstriate_Parietal_R    0\n",
      "FA_ThalamicRadiations_R                  0\n",
      "FA_thalamicradiations_L                  0\n",
      "FA_uncinate_L                            0\n",
      "FA_uncinate_R                            0\n",
      "dtype: int64\n"
     ]
    }
   ],
   "source": [
    "column_nan_counts = dfs['DTIconnectivity'].isna().sum()\n",
    "print(column_nan_counts)"
   ]
  },
  {
   "cell_type": "code",
   "execution_count": 14,
   "id": "c0c71d51",
   "metadata": {},
   "outputs": [
    {
     "name": "stdout",
     "output_type": "stream",
     "text": [
      "There are duplicated subjects False\n"
     ]
    }
   ],
   "source": [
    "print('There are duplicated subjects {}'.format(dfs['DTIconnectivity']['src_subject_id'].duplicated().any()))"
   ]
  },
  {
   "cell_type": "markdown",
   "id": "718b0a42",
   "metadata": {},
   "source": [
    "# Inspect restingstatedata"
   ]
  },
  {
   "cell_type": "code",
   "execution_count": 15,
   "id": "49cc54a0",
   "metadata": {},
   "outputs": [
    {
     "name": "stdout",
     "output_type": "stream",
     "text": [
      "The DataFrame has 6835 rows.\n",
      "The DataFrame has 83 features.\n"
     ]
    }
   ],
   "source": [
    "row_count = len(dfs['RestingState'])\n",
    "print(f'The DataFrame has {row_count} rows.')\n",
    "column_names = list(dfs['RestingState'].columns.values)\n",
    "print(f'The DataFrame has {len(column_names)-1} features.')"
   ]
  },
  {
   "cell_type": "code",
   "execution_count": 16,
   "id": "4027aa27",
   "metadata": {},
   "outputs": [],
   "source": [
    "data_top = dfs['RestingState'].head()\n",
    "# print(data_top)"
   ]
  },
  {
   "cell_type": "code",
   "execution_count": 17,
   "id": "fbc69b80",
   "metadata": {
    "scrolled": false
   },
   "outputs": [
    {
     "name": "stdout",
     "output_type": "stream",
     "text": [
      "Unnamed: 0                   0\n",
      "src_subject_id               0\n",
      "imgincl_rsfmri_include       0\n",
      "age                          0\n",
      "sex_1isM                     0\n",
      "                            ..\n",
      "sensorymotormouth_VAN_ABS    0\n",
      "sensorymotormouth_VIS_ABS    0\n",
      "VAN_VAN_ABS                  0\n",
      "VAN_VIS_ABS                  0\n",
      "VAN_VIS_ABS.1                0\n",
      "Length: 84, dtype: int64\n"
     ]
    }
   ],
   "source": [
    "column_nan_counts = dfs['RestingState'].isna().sum()\n",
    "print(column_nan_counts)"
   ]
  },
  {
   "cell_type": "code",
   "execution_count": 18,
   "id": "b16f1be5",
   "metadata": {},
   "outputs": [
    {
     "name": "stdout",
     "output_type": "stream",
     "text": [
      "There are duplicated subjects False\n"
     ]
    }
   ],
   "source": [
    "print('There are duplicated subjects {}'.format(dfs['RestingState']['src_subject_id'].duplicated().any()))"
   ]
  },
  {
   "cell_type": "markdown",
   "id": "882c0250",
   "metadata": {},
   "source": [
    "# Inspect otherdata"
   ]
  },
  {
   "cell_type": "code",
   "execution_count": 19,
   "id": "bb2f79dd",
   "metadata": {},
   "outputs": [
    {
     "name": "stdout",
     "output_type": "stream",
     "text": [
      "The DataFrame has 5237 rows.\n",
      "The DataFrame has 8 features.\n"
     ]
    }
   ],
   "source": [
    "row_count = len(dfs['otherdata'])\n",
    "print(f'The DataFrame has {row_count} rows.')\n",
    "column_names = list(dfs['otherdata'].columns.values)\n",
    "print(f'The DataFrame has {len(column_names)-1} features.')"
   ]
  },
  {
   "cell_type": "code",
   "execution_count": 20,
   "id": "c832aefb",
   "metadata": {},
   "outputs": [
    {
     "name": "stdout",
     "output_type": "stream",
     "text": [
      "   Unnamed: 0    src_subject_id  ageat2yr  ravlt_sumtc_2yr  \\\n",
      "0           0  NDAR_INV00CY2MDM      12.0               58   \n",
      "1           1  NDAR_INV00HEV6HB      12.0               56   \n",
      "2           2  NDAR_INV00LH735Y      11.0               83   \n",
      "3           3  NDAR_INV014RTM1V      11.0               76   \n",
      "4           4  NDAR_INV019DXLU4      12.0               74   \n",
      "\n",
      "   nihtbx_pattern_raw_2yr  SumNegLifeEvents  N_Trauma_Types  \\\n",
      "0                      46                 6               2   \n",
      "1                      45                 3               1   \n",
      "2                      40                 4               0   \n",
      "3                      45                 7               0   \n",
      "4                      42                 7               3   \n",
      "\n",
      "   fam_history_8_yes_no  dropingrades_2yr  \n",
      "0                     0                 1  \n",
      "1                     0                 1  \n",
      "2                     0                 0  \n",
      "3                     0                 0  \n",
      "4                     0                 0  \n"
     ]
    }
   ],
   "source": [
    "data_top = dfs['otherdata'].head()\n",
    "print(data_top)"
   ]
  },
  {
   "cell_type": "code",
   "execution_count": 21,
   "id": "4f482aee",
   "metadata": {},
   "outputs": [
    {
     "name": "stdout",
     "output_type": "stream",
     "text": [
      "Unnamed: 0                0\n",
      "src_subject_id            0\n",
      "ageat2yr                  0\n",
      "ravlt_sumtc_2yr           0\n",
      "nihtbx_pattern_raw_2yr    0\n",
      "SumNegLifeEvents          0\n",
      "N_Trauma_Types            0\n",
      "fam_history_8_yes_no      0\n",
      "dropingrades_2yr          0\n",
      "dtype: int64\n"
     ]
    }
   ],
   "source": [
    "column_nan_counts = dfs['otherdata'].isna().sum()\n",
    "print(column_nan_counts)"
   ]
  },
  {
   "cell_type": "code",
   "execution_count": 22,
   "id": "58ecd781",
   "metadata": {},
   "outputs": [
    {
     "name": "stdout",
     "output_type": "stream",
     "text": [
      "There are duplicated subjects False\n"
     ]
    }
   ],
   "source": [
    "print('There are duplicated subjects {}'.format(dfs['otherdata']['src_subject_id'].duplicated().any()))"
   ]
  },
  {
   "cell_type": "markdown",
   "id": "740e8855",
   "metadata": {},
   "source": [
    "# Inspect Corticalthickness"
   ]
  },
  {
   "cell_type": "code",
   "execution_count": 23,
   "id": "5de17850",
   "metadata": {},
   "outputs": [
    {
     "name": "stdout",
     "output_type": "stream",
     "text": [
      "The DataFrame has 7682 rows.\n",
      "The DataFrame has 154 features.\n"
     ]
    }
   ],
   "source": [
    "row_count = len(dfs['Corticalthickness'])\n",
    "print(f'The DataFrame has {row_count} rows.')\n",
    "column_names = list(dfs['Corticalthickness'].columns.values)\n",
    "print(f'The DataFrame has {len(column_names)-1} features.')"
   ]
  },
  {
   "cell_type": "code",
   "execution_count": 24,
   "id": "fa57a334",
   "metadata": {},
   "outputs": [
    {
     "name": "stdout",
     "output_type": "stream",
     "text": [
      "   Unnamed: 0    src_subject_id                 eventname  yr2_age  sex  site  \\\n",
      "0         270  NDAR_INV00CY2MDM  2_year_follow_up_y_arm_1     12.0    1    20   \n",
      "1         271  NDAR_INV00HEV6HB  2_year_follow_up_y_arm_1     12.0    1    12   \n",
      "2         272  NDAR_INV00LH735Y  2_year_follow_up_y_arm_1     11.0    1     3   \n",
      "3         273  NDAR_INV014RTM1V  2_year_follow_up_y_arm_1     11.0    1    17   \n",
      "4         274  NDAR_INV019DXLU4  2_year_follow_up_y_arm_1     12.0    2    19   \n",
      "\n",
      "   imgincl_t1w_include  CortThk_L_fronto-marginal gyrus and sulcus  \\\n",
      "0                    1                                       2.564   \n",
      "1                    1                                       2.360   \n",
      "2                    1                                       2.451   \n",
      "3                    1                                       2.478   \n",
      "4                    1                                       2.577   \n",
      "\n",
      "   CortThk_L_inferior occipital gyrus and sulcus  \\\n",
      "0                                          2.472   \n",
      "1                                          2.433   \n",
      "2                                          2.559   \n",
      "3                                          2.477   \n",
      "4                                          2.422   \n",
      "\n",
      "   CortThk_L_paracentral lobule and sulcus  ...  \\\n",
      "0                                    2.860  ...   \n",
      "1                                    2.372  ...   \n",
      "2                                    2.943  ...   \n",
      "3                                    2.456  ...   \n",
      "4                                    2.380  ...   \n",
      "\n",
      "   CortThk_R_parieto-occipital sulcus  CortThk_R_pericallosal sulcus  \\\n",
      "0                               2.482                          1.876   \n",
      "1                               2.234                          1.655   \n",
      "2                               2.591                          1.567   \n",
      "3                               2.432                          1.585   \n",
      "4                               2.241                          1.810   \n",
      "\n",
      "   CortThk_R_postcentral sulcus  \\\n",
      "0                         2.445   \n",
      "1                         2.092   \n",
      "2                         2.498   \n",
      "3                         2.135   \n",
      "4                         2.200   \n",
      "\n",
      "   CortThk_R_inferior part of the precentral sulcus  \\\n",
      "0                                             2.637   \n",
      "1                                             2.480   \n",
      "2                                             2.739   \n",
      "3                                             2.676   \n",
      "4                                             2.686   \n",
      "\n",
      "   CortThk_R_superior part of the precentral sulcus  \\\n",
      "0                                             2.616   \n",
      "1                                             2.472   \n",
      "2                                             2.678   \n",
      "3                                             2.632   \n",
      "4                                             2.394   \n",
      "\n",
      "   CortThk_R_suborbital sulcus  CortThk_R_subparietal sulcus  \\\n",
      "0                        2.406                         2.580   \n",
      "1                        3.039                         2.489   \n",
      "2                        2.504                         2.600   \n",
      "3                        2.198                         2.617   \n",
      "4                        2.407                         2.277   \n",
      "\n",
      "   CortThk_R_inferior temporal sulcus  CortThk_R_superior temporal sulcus  \\\n",
      "0                               2.514                               2.727   \n",
      "1                               2.610                               2.652   \n",
      "2                               2.831                               2.848   \n",
      "3                               2.472                               2.604   \n",
      "4                               2.450                               2.606   \n",
      "\n",
      "   CortThk_R_transverse temporal sulcus  \n",
      "0                                 2.561  \n",
      "1                                 2.277  \n",
      "2                                 3.059  \n",
      "3                                 2.759  \n",
      "4                                 2.274  \n",
      "\n",
      "[5 rows x 155 columns]\n"
     ]
    }
   ],
   "source": [
    "data_top = dfs['Corticalthickness'].head()\n",
    "print(data_top)"
   ]
  },
  {
   "cell_type": "code",
   "execution_count": 25,
   "id": "0418eb57",
   "metadata": {},
   "outputs": [
    {
     "name": "stdout",
     "output_type": "stream",
     "text": [
      "Unnamed: 0                              0\n",
      "src_subject_id                          0\n",
      "eventname                               0\n",
      "yr2_age                                 0\n",
      "sex                                     0\n",
      "                                       ..\n",
      "CortThk_R_suborbital sulcus             0\n",
      "CortThk_R_subparietal sulcus            0\n",
      "CortThk_R_inferior temporal sulcus      0\n",
      "CortThk_R_superior temporal sulcus      0\n",
      "CortThk_R_transverse temporal sulcus    0\n",
      "Length: 155, dtype: int64\n"
     ]
    }
   ],
   "source": [
    "column_nan_counts = dfs['Corticalthickness'].isna().sum()\n",
    "print(column_nan_counts)"
   ]
  },
  {
   "cell_type": "code",
   "execution_count": 26,
   "id": "da371942",
   "metadata": {},
   "outputs": [
    {
     "name": "stdout",
     "output_type": "stream",
     "text": [
      "There are duplicated subjects False\n"
     ]
    }
   ],
   "source": [
    "print('There are duplicated subjects {}'.format(dfs['Corticalthickness']['src_subject_id'].duplicated().any()))"
   ]
  },
  {
   "cell_type": "markdown",
   "id": "6f5f6b5f",
   "metadata": {},
   "source": [
    "# Shared subjects"
   ]
  },
  {
   "cell_type": "code",
   "execution_count": 29,
   "id": "e4f910d1",
   "metadata": {},
   "outputs": [],
   "source": [
    "shared_subjects = set(dfs['outcome']['src_subject_id']).intersection(\\\n",
    "    set(dfs['DTIconnectivity']['src_subject_id']),\\\n",
    "    set(dfs['RestingState']['src_subject_id']),\\\n",
    "    set(dfs['Corticalthickness']['src_subject_id']),\\\n",
    "    set(dfs['otherdata']['src_subject_id']))"
   ]
  },
  {
   "cell_type": "code",
   "execution_count": 30,
   "id": "29b8ffdc",
   "metadata": {},
   "outputs": [],
   "source": [
    "filtered_dfs = {sheet_name: df[df['src_subject_id'].isin(shared_subjects)] for sheet_name, df in dfs.items()}"
   ]
  },
  {
   "cell_type": "code",
   "execution_count": 31,
   "id": "c75ee320",
   "metadata": {},
   "outputs": [
    {
     "name": "stdout",
     "output_type": "stream",
     "text": [
      "In the filtered data frames, the number of subjects in each sheet is\n",
      "otherdata 3941\n",
      "RestingState 3941\n",
      "Corticalthickness 3941\n",
      "DTIconnectivity 3941\n",
      "outcome 3941\n"
     ]
    }
   ],
   "source": [
    "print('In the filtered data frames, the number of subjects in each sheet is')\n",
    "for sheet_name, df in filtered_dfs.items():\n",
    "    print(sheet_name, len(df))"
   ]
  },
  {
   "cell_type": "code",
   "execution_count": 40,
   "id": "eb9ae428",
   "metadata": {},
   "outputs": [
    {
     "name": "stdout",
     "output_type": "stream",
     "text": [
      "0       1\n",
      "1       1\n",
      "2       1\n",
      "3       1\n",
      "4       1\n",
      "       ..\n",
      "7677    1\n",
      "7678    1\n",
      "7679    1\n",
      "7680    1\n",
      "7681    1\n",
      "Name: imgincl_t1w_include, Length: 7682, dtype: int64\n"
     ]
    }
   ],
   "source": [
    "print(dfs['Corticalthickness']['imgincl_t1w_include'])"
   ]
  },
  {
   "cell_type": "code",
   "execution_count": 42,
   "id": "749f30b3",
   "metadata": {},
   "outputs": [
    {
     "data": {
      "text/plain": [
       "6835"
      ]
     },
     "execution_count": 42,
     "metadata": {},
     "output_type": "execute_result"
    }
   ],
   "source": [
    "len(dfs['RestingState'][dfs['RestingState']['imgincl_rsfmri_include']==1])"
   ]
  },
  {
   "cell_type": "code",
   "execution_count": null,
   "id": "acf9648b",
   "metadata": {},
   "outputs": [],
   "source": []
  }
 ],
 "metadata": {
  "kernelspec": {
   "display_name": "Python 3",
   "language": "python",
   "name": "python3"
  },
  "language_info": {
   "codemirror_mode": {
    "name": "ipython",
    "version": 3
   },
   "file_extension": ".py",
   "mimetype": "text/x-python",
   "name": "python",
   "nbconvert_exporter": "python",
   "pygments_lexer": "ipython3",
   "version": "3.8.10"
  }
 },
 "nbformat": 4,
 "nbformat_minor": 5
}
