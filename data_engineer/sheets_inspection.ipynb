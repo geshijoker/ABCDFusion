{
 "cells": [
  {
   "cell_type": "code",
   "execution_count": 1,
   "id": "ac796334",
   "metadata": {},
   "outputs": [],
   "source": [
    "import os\n",
    "import errno\n",
    "import sys\n",
    "import time"
   ]
  },
  {
   "cell_type": "code",
   "execution_count": 2,
   "id": "68854078",
   "metadata": {},
   "outputs": [],
   "source": [
    "import pandas as pd\n",
    "import sklearn \n",
    "import numpy as np\n",
    "import matplotlib.pyplot as plt"
   ]
  },
  {
   "cell_type": "code",
   "execution_count": 3,
   "id": "868be9f8",
   "metadata": {},
   "outputs": [],
   "source": [
    "ROOT_PATH = '../'\n",
    "ORIGINAL_DATA = 'data/DataforGe_v2.xlsx'"
   ]
  },
  {
   "cell_type": "code",
   "execution_count": 4,
   "id": "de043d27",
   "metadata": {},
   "outputs": [],
   "source": [
    "orig_data_path = os.path.join(ROOT_PATH, ORIGINAL_DATA)"
   ]
  },
  {
   "cell_type": "code",
   "execution_count": 5,
   "id": "f443bd4b",
   "metadata": {},
   "outputs": [],
   "source": [
    "if os.path.isfile(orig_data_path):\n",
    "    dfs = pd.read_excel(orig_data_path, sheet_name=None)\n",
    "else:\n",
    "    raise FileNotFoundError(errno.ENOENT, os.strerror(errno.ENOENT), orig_data_path)"
   ]
  },
  {
   "cell_type": "code",
   "execution_count": 6,
   "id": "87bc456b",
   "metadata": {},
   "outputs": [
    {
     "name": "stdout",
     "output_type": "stream",
     "text": [
      "The loaded panda frames are dict_keys(['DTIConnectData', 'restingstatedata', 'otherdata', 'outcome'])\n"
     ]
    }
   ],
   "source": [
    "sheet_names = dfs.keys()\n",
    "print('The loaded panda frames are', sheet_names)"
   ]
  },
  {
   "cell_type": "markdown",
   "id": "994fce76",
   "metadata": {},
   "source": [
    "# Inspect outcome"
   ]
  },
  {
   "cell_type": "code",
   "execution_count": 7,
   "id": "38f7a1e7",
   "metadata": {},
   "outputs": [
    {
     "name": "stdout",
     "output_type": "stream",
     "text": [
      "The DataFrame has 5237 rows.\n",
      "The DataFrame has 1 features.\n"
     ]
    }
   ],
   "source": [
    "row_count = len(dfs['outcome'])\n",
    "print(f'The DataFrame has {row_count} rows.')\n",
    "column_names = list(dfs['outcome'].columns.values)\n",
    "print(f'The DataFrame has {len(column_names)-1} features.')"
   ]
  },
  {
   "cell_type": "code",
   "execution_count": 8,
   "id": "56dc974d",
   "metadata": {},
   "outputs": [
    {
     "name": "stdout",
     "output_type": "stream",
     "text": [
      "     src_subject_id  becomeCHR_3yr\n",
      "0  NDAR_INV00CY2MDM              0\n",
      "1  NDAR_INV00HEV6HB              0\n",
      "2  NDAR_INV00LH735Y              0\n",
      "3  NDAR_INV014RTM1V              0\n",
      "4  NDAR_INV019DXLU4              0\n"
     ]
    }
   ],
   "source": [
    "data_top = dfs['outcome'].head()\n",
    "print(data_top)"
   ]
  },
  {
   "cell_type": "code",
   "execution_count": 9,
   "id": "399bdea1",
   "metadata": {},
   "outputs": [
    {
     "name": "stdout",
     "output_type": "stream",
     "text": [
      "src_subject_id    0\n",
      "becomeCHR_3yr     0\n",
      "dtype: int64\n"
     ]
    }
   ],
   "source": [
    "column_nan_counts = dfs['outcome'].isna().sum()\n",
    "print(column_nan_counts)"
   ]
  },
  {
   "cell_type": "code",
   "execution_count": 10,
   "id": "7f0720bd",
   "metadata": {},
   "outputs": [
    {
     "name": "stdout",
     "output_type": "stream",
     "text": [
      "There are duplicated subjects False\n"
     ]
    }
   ],
   "source": [
    "print('There are duplicated subjects {}'.format(dfs['outcome']['src_subject_id'].duplicated().any()))"
   ]
  },
  {
   "cell_type": "markdown",
   "id": "d76e2094",
   "metadata": {},
   "source": [
    "# Inspect DTIConnectData"
   ]
  },
  {
   "cell_type": "code",
   "execution_count": 11,
   "id": "5f0344eb",
   "metadata": {},
   "outputs": [
    {
     "name": "stdout",
     "output_type": "stream",
     "text": [
      "The DataFrame has 7266 rows.\n",
      "The DataFrame has 33 features.\n"
     ]
    }
   ],
   "source": [
    "row_count = len(dfs['DTIConnectData'])\n",
    "print(f'The DataFrame has {row_count} rows.')\n",
    "column_names = list(dfs['DTIConnectData'].columns.values)\n",
    "print(f'The DataFrame has {len(column_names)-1} features.')"
   ]
  },
  {
   "cell_type": "code",
   "execution_count": 12,
   "id": "a91cc4a4",
   "metadata": {},
   "outputs": [],
   "source": [
    "data_top = dfs['DTIConnectData'].head()\n",
    "# print(data_top)"
   ]
  },
  {
   "cell_type": "code",
   "execution_count": 13,
   "id": "93cdbeed",
   "metadata": {},
   "outputs": [
    {
     "name": "stdout",
     "output_type": "stream",
     "text": [
      "src_subject_id                                      0\n",
      "imgincl_FA_include                                  0\n",
      "FA_All_agesexsite                                   0\n",
      "FA_cingulatecingulum_R_agesexsite                   0\n",
      "FA_CinguluteCingulum_L_agesexsite                   0\n",
      "FA_corpuscallosum_agesexsite                        0\n",
      "FA_Corticospinal_L_agesexsite                       0\n",
      "FA_Corticospinal_R_agesexsite                       0\n",
      "FA_forecepsmajor_agesexsite                         0\n",
      "FA_forecepsminor_agesexsite                         0\n",
      "FA_Fornix_L_agesexsite                              0\n",
      "FA_Fornix_R_agesexsite                              0\n",
      "FA_IFC_SupFrontal_L_agesexsite                      0\n",
      "FA_IFC_SupFrontal_R_agesexsite                      0\n",
      "FA_inferiorfrontooccipitalfasiculus_L_agesexsite    0\n",
      "FA_inferiorfrontooccipitalfasiculus_R_agesexsite    0\n",
      "FA_inferiorlongfascic_L_agesexsite                  0\n",
      "FA_inferiorlongfascic_R_agesexsite                  0\n",
      "FA_ParahippocampalCingulum_L_agesexsite             0\n",
      "FA_ParahippocampalCingulum_R_agesexsite             0\n",
      "FA_parietalSLF_L_agesexsite                         0\n",
      "FA_parietalSLF_R_agesexsite                         0\n",
      "FA_temporalSLF_L_agesexsite                         0\n",
      "FA_temporalSLF_R_agesexsite                         0\n",
      "FA_striatal_IFC_L_agesexsite                        0\n",
      "FA_striatal_IFC_R_agesexsite                        0\n",
      "FA_superiorcorticalstriate_Frontal_L_agesexsite     0\n",
      "FA_superiorcorticalstriate_Frontal_R_agesexsite     0\n",
      "FA_superiorcorticalstriate_Parietal_L_agesexsite    0\n",
      "FA_superiorcorticalstriate_Parietal_R_agesexsite    0\n",
      "FA_ThalamicRadiations_R_agesexsite                  0\n",
      "FA_thalamicradiations_L_agesexsite                  0\n",
      "FA_uncinate_L_agesexsite                            0\n",
      "FA_uncinate_R_agesexsite                            0\n",
      "dtype: int64\n"
     ]
    }
   ],
   "source": [
    "column_nan_counts = dfs['DTIConnectData'].isna().sum()\n",
    "print(column_nan_counts)"
   ]
  },
  {
   "cell_type": "code",
   "execution_count": 14,
   "id": "4a661b7b",
   "metadata": {},
   "outputs": [
    {
     "name": "stdout",
     "output_type": "stream",
     "text": [
      "There are duplicated subjects False\n"
     ]
    }
   ],
   "source": [
    "print('There are duplicated subjects {}'.format(dfs['DTIConnectData']['src_subject_id'].duplicated().any()))"
   ]
  },
  {
   "cell_type": "markdown",
   "id": "7d54897b",
   "metadata": {},
   "source": [
    "# Inspect restingstatedata"
   ]
  },
  {
   "cell_type": "code",
   "execution_count": 15,
   "id": "295cf402",
   "metadata": {},
   "outputs": [
    {
     "name": "stdout",
     "output_type": "stream",
     "text": [
      "The DataFrame has 6752 rows.\n",
      "The DataFrame has 271 features.\n"
     ]
    }
   ],
   "source": [
    "row_count = len(dfs['restingstatedata'])\n",
    "print(f'The DataFrame has {row_count} rows.')\n",
    "column_names = list(dfs['restingstatedata'].columns.values)\n",
    "print(f'The DataFrame has {len(column_names)-1} features.')"
   ]
  },
  {
   "cell_type": "code",
   "execution_count": 16,
   "id": "063df8e2",
   "metadata": {},
   "outputs": [],
   "source": [
    "data_top = dfs['restingstatedata'].head()\n",
    "# print(data_top)"
   ]
  },
  {
   "cell_type": "code",
   "execution_count": 17,
   "id": "39ac1062",
   "metadata": {
    "scrolled": false
   },
   "outputs": [
    {
     "name": "stdout",
     "output_type": "stream",
     "text": [
      "src_subject_id                         0\n",
      "imgincl_rsfmri_include                 0\n",
      "auditory_auditory_agesexsite           0\n",
      "auditory_cingulooper_agesexsite        0\n",
      "auditory_cinguloparietal_agesexsite    0\n",
      "                                      ..\n",
      "VIS_pallidumR_agesexsite               0\n",
      "VIS_putamenL_agesexsite                0\n",
      "VIS_putamenR_agesexsite                0\n",
      "VIS_thalamusL_agesexsite               0\n",
      "VIS_thalamusR_agesexsite               0\n",
      "Length: 272, dtype: int64\n"
     ]
    }
   ],
   "source": [
    "column_nan_counts = dfs['restingstatedata'].isna().sum()\n",
    "print(column_nan_counts)"
   ]
  },
  {
   "cell_type": "code",
   "execution_count": 18,
   "id": "87d5be5b",
   "metadata": {},
   "outputs": [
    {
     "name": "stdout",
     "output_type": "stream",
     "text": [
      "There are duplicated subjects False\n"
     ]
    }
   ],
   "source": [
    "print('There are duplicated subjects {}'.format(dfs['restingstatedata']['src_subject_id'].duplicated().any()))"
   ]
  },
  {
   "cell_type": "markdown",
   "id": "f2d02f52",
   "metadata": {},
   "source": [
    "# Inspect otherdata"
   ]
  },
  {
   "cell_type": "code",
   "execution_count": 19,
   "id": "aba1082a",
   "metadata": {},
   "outputs": [
    {
     "name": "stdout",
     "output_type": "stream",
     "text": [
      "The DataFrame has 5237 rows.\n",
      "The DataFrame has 7 features.\n"
     ]
    }
   ],
   "source": [
    "row_count = len(dfs['otherdata'])\n",
    "print(f'The DataFrame has {row_count} rows.')\n",
    "column_names = list(dfs['otherdata'].columns.values)\n",
    "print(f'The DataFrame has {len(column_names)-1} features.')"
   ]
  },
  {
   "cell_type": "code",
   "execution_count": 20,
   "id": "cd432479",
   "metadata": {},
   "outputs": [
    {
     "name": "stdout",
     "output_type": "stream",
     "text": [
      "     src_subject_id  ageat2yr  ravlt_sumtc_2yr  nihtbx_pattern_raw_2yr  \\\n",
      "0  NDAR_INV00CY2MDM      12.0               58                      46   \n",
      "1  NDAR_INV00HEV6HB      12.0               56                      45   \n",
      "2  NDAR_INV00LH735Y      11.0               83                      40   \n",
      "3  NDAR_INV014RTM1V      11.0               76                      45   \n",
      "4  NDAR_INV019DXLU4      12.0               74                      42   \n",
      "\n",
      "   SumNegLifeEvents  N_Trauma_Types  fam_history_8_yes_no  dropingrades_2yr  \n",
      "0                 6               2                     0                 1  \n",
      "1                 3               1                     0                 1  \n",
      "2                 4               0                     0                 0  \n",
      "3                 7               0                     0                 0  \n",
      "4                 7               3                     0                 0  \n"
     ]
    }
   ],
   "source": [
    "data_top = dfs['otherdata'].head()\n",
    "print(data_top)"
   ]
  },
  {
   "cell_type": "code",
   "execution_count": 21,
   "id": "9b8aa9fc",
   "metadata": {},
   "outputs": [
    {
     "name": "stdout",
     "output_type": "stream",
     "text": [
      "src_subject_id            0\n",
      "ageat2yr                  0\n",
      "ravlt_sumtc_2yr           0\n",
      "nihtbx_pattern_raw_2yr    0\n",
      "SumNegLifeEvents          0\n",
      "N_Trauma_Types            0\n",
      "fam_history_8_yes_no      0\n",
      "dropingrades_2yr          0\n",
      "dtype: int64\n"
     ]
    }
   ],
   "source": [
    "column_nan_counts = dfs['otherdata'].isna().sum()\n",
    "print(column_nan_counts)"
   ]
  },
  {
   "cell_type": "code",
   "execution_count": 22,
   "id": "79ce7cf6",
   "metadata": {},
   "outputs": [
    {
     "name": "stdout",
     "output_type": "stream",
     "text": [
      "There are duplicated subjects False\n"
     ]
    }
   ],
   "source": [
    "print('There are duplicated subjects {}'.format(dfs['otherdata']['src_subject_id'].duplicated().any()))"
   ]
  },
  {
   "cell_type": "markdown",
   "id": "23f2f56b",
   "metadata": {},
   "source": [
    "# Shared subjects"
   ]
  },
  {
   "cell_type": "code",
   "execution_count": 23,
   "id": "db881842",
   "metadata": {},
   "outputs": [],
   "source": [
    "shared_subjects = set(dfs['outcome']['src_subject_id']).intersection(\\\n",
    "    set(dfs['DTIConnectData']['src_subject_id']),\\\n",
    "    set(dfs['restingstatedata']['src_subject_id']),\\\n",
    "    set(dfs['otherdata']['src_subject_id']))"
   ]
  },
  {
   "cell_type": "code",
   "execution_count": 24,
   "id": "d232298e",
   "metadata": {},
   "outputs": [],
   "source": [
    "filtered_dfs = {sheet_name: df[df['src_subject_id'].isin(shared_subjects)] for sheet_name, df in dfs.items()}"
   ]
  },
  {
   "cell_type": "code",
   "execution_count": 25,
   "id": "05f4867a",
   "metadata": {},
   "outputs": [
    {
     "name": "stdout",
     "output_type": "stream",
     "text": [
      "In the filtered data frames, the number of subjects in each sheet is\n",
      "DTIConnectData 3946\n",
      "restingstatedata 3946\n",
      "otherdata 3946\n",
      "outcome 3946\n"
     ]
    }
   ],
   "source": [
    "print('In the filtered data frames, the number of subjects in each sheet is')\n",
    "for sheet_name, df in filtered_dfs.items():\n",
    "    print(sheet_name, len(df))"
   ]
  },
  {
   "cell_type": "markdown",
   "id": "6568d65e",
   "metadata": {},
   "source": [
    "# Load diffusivity & corticalthickness data"
   ]
  },
  {
   "cell_type": "code",
   "execution_count": 26,
   "id": "f55c2a01",
   "metadata": {},
   "outputs": [],
   "source": [
    "DIFnCOR_DATA = 'data/diffusivityandcorticalthicknessdataforGe.xlsx'"
   ]
  },
  {
   "cell_type": "code",
   "execution_count": 27,
   "id": "d14d4eb2",
   "metadata": {},
   "outputs": [],
   "source": [
    "difncor_data_path = os.path.join(ROOT_PATH, DIFnCOR_DATA)"
   ]
  },
  {
   "cell_type": "code",
   "execution_count": 28,
   "id": "4843afcf",
   "metadata": {},
   "outputs": [],
   "source": [
    "if os.path.isfile(difncor_data_path):\n",
    "    difncor_dfs = pd.read_excel(difncor_data_path, sheet_name=None)\n",
    "else:\n",
    "    raise FileNotFoundError(errno.ENOENT, os.strerror(errno.ENOENT), difncor_data_path)"
   ]
  },
  {
   "cell_type": "code",
   "execution_count": 29,
   "id": "bc25e98b",
   "metadata": {},
   "outputs": [
    {
     "name": "stdout",
     "output_type": "stream",
     "text": [
      "The loaded panda frames are dict_keys(['diffusivity', 'corticalthickness'])\n"
     ]
    }
   ],
   "source": [
    "sheet_names = difncor_dfs.keys()\n",
    "print('The loaded panda frames are', sheet_names)"
   ]
  },
  {
   "cell_type": "markdown",
   "id": "aac40b36",
   "metadata": {},
   "source": [
    "# Inspect diffusivity data"
   ]
  },
  {
   "cell_type": "code",
   "execution_count": 33,
   "id": "46cb1772",
   "metadata": {},
   "outputs": [
    {
     "name": "stdout",
     "output_type": "stream",
     "text": [
      "The DataFrame has 4261 rows.\n",
      "The DataFrame has 37 features.\n"
     ]
    }
   ],
   "source": [
    "row_count = len(difncor_dfs['diffusivity'])\n",
    "print(f'The DataFrame has {row_count} rows.')\n",
    "column_names = list(difncor_dfs['diffusivity'].columns.values)\n",
    "print(f'The DataFrame has {len(column_names)-1} features.')"
   ]
  },
  {
   "cell_type": "code",
   "execution_count": 34,
   "id": "7085e5bb",
   "metadata": {
    "scrolled": true
   },
   "outputs": [
    {
     "name": "stdout",
     "output_type": "stream",
     "text": [
      "     src_subject_id  diffusivity_L_ anterior thalamic radiations_site  \\\n",
      "0  NDAR_INVM15U5KMV                                          0.516047   \n",
      "1  NDAR_INVAWG2NZC4                                          0.532019   \n",
      "2  NDAR_INV0TEH16CM                                          0.543361   \n",
      "3  NDAR_INVF1XKPBT6                                          0.511484   \n",
      "4  NDAR_INV019DXLU4                                          0.528977   \n",
      "\n",
      "   diffusivity_R_anterior thalamic radiations_site  \\\n",
      "0                                         0.533702   \n",
      "1                                         0.538652   \n",
      "2                                         0.568602   \n",
      "3                                         0.505654   \n",
      "4                                         0.530402   \n",
      "\n",
      "   diffusivity_corpus callosum_site  diffusivity_L_ cingulate cingulum_site  \\\n",
      "0                          0.494924                                0.506804   \n",
      "1                          0.510121                                0.523930   \n",
      "2                          0.542760                                0.555940   \n",
      "3                          0.486878                                0.507518   \n",
      "4                          0.506545                                0.525357   \n",
      "\n",
      "   diffusivity_R_cingulate cingulum_site  \\\n",
      "0                               0.522011   \n",
      "1                               0.525440   \n",
      "2                               0.571231   \n",
      "3                               0.513439   \n",
      "4                               0.515154   \n",
      "\n",
      "   diffusivity_L_ parahippocampal cingulum_site  \\\n",
      "0                                      0.628291   \n",
      "1                                      0.617579   \n",
      "2                                      0.629202   \n",
      "3                                      0.585443   \n",
      "4                                      0.593299   \n",
      "\n",
      "   diffusivity_R_parahippocampal cingulum_site  \\\n",
      "0                                     0.624122   \n",
      "1                                     0.601057   \n",
      "2                                     0.615049   \n",
      "3                                     0.591687   \n",
      "4                                     0.590245   \n",
      "\n",
      "   diffusivity_L_ corticospinal/pyramidal_site  \\\n",
      "0                                     0.455090   \n",
      "1                                     0.468625   \n",
      "2                                     0.470211   \n",
      "3                                     0.464644   \n",
      "4                                     0.453498   \n",
      "\n",
      "   diffusivity_R_corticospinal/pyramidal_site  ...  \\\n",
      "0                                    0.457208  ...   \n",
      "1                                    0.477564  ...   \n",
      "2                                    0.469557  ...   \n",
      "3                                    0.462093  ...   \n",
      "4                                    0.456394  ...   \n",
      "\n",
      "   diffusivity_L_ superior corticostriate_site  \\\n",
      "0                                     0.492942   \n",
      "1                                     0.492076   \n",
      "2                                     0.520383   \n",
      "3                                     0.499006   \n",
      "4                                     0.484279   \n",
      "\n",
      "   diffusivity_R_superior corticostriate_site  \\\n",
      "0                                    0.486002   \n",
      "1                                    0.492273   \n",
      "2                                    0.520695   \n",
      "3                                    0.479730   \n",
      "4                                    0.474355   \n",
      "\n",
      "   diffusivity_L_ striatal inferior frontal cortex_site  \\\n",
      "0                                           0.532732      \n",
      "1                                           0.543031      \n",
      "2                                           0.581553      \n",
      "3                                           0.520717      \n",
      "4                                           0.515568      \n",
      "\n",
      "   diffusivity_R_striatal inferior frontal cortex_site  \\\n",
      "0                                           0.525780     \n",
      "1                                           0.550562     \n",
      "2                                           0.568944     \n",
      "3                                           0.508689     \n",
      "4                                           0.530053     \n",
      "\n",
      "   diffusivity_L_ superior longitudinal fasiculus_site  \\\n",
      "0                                           0.468013     \n",
      "1                                           0.468871     \n",
      "2                                           0.494251     \n",
      "3                                           0.474021     \n",
      "4                                           0.454282     \n",
      "\n",
      "   diffusivity_R_superior longitudinal fasiculus_site  \\\n",
      "0                                           0.474982    \n",
      "1                                           0.470567    \n",
      "2                                           0.506138    \n",
      "3                                           0.464385    \n",
      "4                                           0.458204    \n",
      "\n",
      "   diffusivity_L_ temporal superior longitudinal fasiculus_site  \\\n",
      "0                                           0.471343              \n",
      "1                                           0.473901              \n",
      "2                                           0.495259              \n",
      "3                                           0.473048              \n",
      "4                                           0.455997              \n",
      "\n",
      "   diffusivity_R_temporal superior longitudinal fasiculus_site  \\\n",
      "0                                           0.473699             \n",
      "1                                           0.480580             \n",
      "2                                           0.511260             \n",
      "3                                           0.469398             \n",
      "4                                           0.460797             \n",
      "\n",
      "   diffusivity_L_ uncinate_site  diffusivity_R_uncinate_site  \n",
      "0                      0.573778                     0.566283  \n",
      "1                      0.594414                     0.590389  \n",
      "2                      0.622041                     0.611102  \n",
      "3                      0.562599                     0.559396  \n",
      "4                      0.562599                     0.576614  \n",
      "\n",
      "[5 rows x 38 columns]\n"
     ]
    }
   ],
   "source": [
    "data_top = difncor_dfs['diffusivity'].head()\n",
    "print(data_top)"
   ]
  },
  {
   "cell_type": "code",
   "execution_count": 35,
   "id": "9a2cf469",
   "metadata": {},
   "outputs": [
    {
     "name": "stdout",
     "output_type": "stream",
     "text": [
      "src_subject_id                                                       0\n",
      "diffusivity_L_ anterior thalamic radiations_site                    15\n",
      "diffusivity_R_anterior thalamic radiations_site                     15\n",
      "diffusivity_corpus callosum_site                                    15\n",
      "diffusivity_L_ cingulate cingulum_site                              15\n",
      "diffusivity_R_cingulate cingulum_site                               15\n",
      "diffusivity_L_ parahippocampal cingulum_site                        15\n",
      "diffusivity_R_parahippocampal cingulum_site                         15\n",
      "diffusivity_L_ corticospinal/pyramidal_site                         15\n",
      "diffusivity_R_corticospinal/pyramidal_site                          15\n",
      "diffusivity_foreceps major_site                                     15\n",
      "diffusivity_foreceps minor_site                                     15\n",
      "diffusivity_L_ superior corticostriate-frontal cortex only_site     15\n",
      "diffusivity_R_superior corticostriate-frontal cortex only_site      15\n",
      "diffusivity_L_ fornix, excluding fimbria_site                       15\n",
      "diffusivity_R_fornix, excluding fimbria_site                        15\n",
      "diffusivity_L_ fornix_site                                          15\n",
      "diffusivity_R_fornix_site                                           15\n",
      "diffusivity_L_ inferior-fronto-occipital fasiculus_site             15\n",
      "diffusivity_R_inferior-fronto-occipital fasiculus_site              15\n",
      "diffusivity_L_ inferior frontal superior frontal cortex_site        15\n",
      "diffusivity_R_inferior frontal superior frontal cortex_site         15\n",
      "diffusivity_L_ inferior longitudinal fasiculus_site                 15\n",
      "diffusivity_R_inferior longitudinal fasiculus_site                  15\n",
      "diffusivity_L_ superior corticostriate-parietal cortex only_site    15\n",
      "diffusivity_R_superior corticostriate-parietal cortex only_site     15\n",
      "diffusivity_L_ parietal superior longitudinal fasiculus_site        15\n",
      "diffusivity_R_parietal superior longitudinal fasiculus_site         15\n",
      "diffusivity_L_ superior corticostriate_site                         15\n",
      "diffusivity_R_superior corticostriate_site                          15\n",
      "diffusivity_L_ striatal inferior frontal cortex_site                15\n",
      "diffusivity_R_striatal inferior frontal cortex_site                 15\n",
      "diffusivity_L_ superior longitudinal fasiculus_site                 15\n",
      "diffusivity_R_superior longitudinal fasiculus_site                  15\n",
      "diffusivity_L_ temporal superior longitudinal fasiculus_site        15\n",
      "diffusivity_R_temporal superior longitudinal fasiculus_site         15\n",
      "diffusivity_L_ uncinate_site                                        15\n",
      "diffusivity_R_uncinate_site                                         15\n",
      "dtype: int64\n"
     ]
    }
   ],
   "source": [
    "column_nan_counts = difncor_dfs['diffusivity'].isna().sum()\n",
    "print(column_nan_counts)"
   ]
  },
  {
   "cell_type": "code",
   "execution_count": 36,
   "id": "6606dee2",
   "metadata": {},
   "outputs": [
    {
     "name": "stdout",
     "output_type": "stream",
     "text": [
      "There are duplicated subjects False\n"
     ]
    }
   ],
   "source": [
    "print('There are duplicated subjects {}'.format(difncor_dfs['diffusivity']['src_subject_id'].duplicated().any()))"
   ]
  },
  {
   "cell_type": "code",
   "execution_count": 37,
   "id": "345e2b81",
   "metadata": {},
   "outputs": [
    {
     "name": "stdout",
     "output_type": "stream",
     "text": [
      "The DataFrame has 4246 rows.\n",
      "The DataFrame has 37 features.\n"
     ]
    }
   ],
   "source": [
    "# dropna\n",
    "difncor_dfs['diffusivity'] = difncor_dfs['diffusivity'].dropna()\n",
    "row_count = len(difncor_dfs['diffusivity'])\n",
    "print(f'The DataFrame has {row_count} rows.')\n",
    "column_names = list(difncor_dfs['diffusivity'].columns.values)\n",
    "print(f'The DataFrame has {len(column_names)-1} features.')"
   ]
  },
  {
   "cell_type": "markdown",
   "id": "ab8cc232",
   "metadata": {},
   "source": [
    "# Inspect corticalthickness data"
   ]
  },
  {
   "cell_type": "code",
   "execution_count": 38,
   "id": "db2bfa70",
   "metadata": {},
   "outputs": [
    {
     "name": "stdout",
     "output_type": "stream",
     "text": [
      "The DataFrame has 4400 rows.\n",
      "The DataFrame has 148 features.\n"
     ]
    }
   ],
   "source": [
    "row_count = len(difncor_dfs['corticalthickness'])\n",
    "print(f'The DataFrame has {row_count} rows.')\n",
    "column_names = list(difncor_dfs['corticalthickness'].columns.values)\n",
    "print(f'The DataFrame has {len(column_names)-1} features.')"
   ]
  },
  {
   "cell_type": "code",
   "execution_count": 39,
   "id": "34d891a5",
   "metadata": {},
   "outputs": [
    {
     "name": "stdout",
     "output_type": "stream",
     "text": [
      "     src_subject_id  CortThk_L_fronto-marginal gyrus and sulcus_agesexsite  \\\n",
      "0  NDAR_INV00LH735Y                                           2.454222       \n",
      "1  NDAR_INV1YWMB9TV                                           2.550441       \n",
      "2  NDAR_INV25RHG3PJ                                           2.280261       \n",
      "3  NDAR_INV2DZUL8LC                                           2.811705       \n",
      "4  NDAR_INV2K3JH38W                                           2.431327       \n",
      "\n",
      "   CortThk_L_inferior occipital gyrus and sulcus_agesexsite  \\\n",
      "0                                           2.572241          \n",
      "1                                           2.501550          \n",
      "2                                           2.506715          \n",
      "3                                           2.545938          \n",
      "4                                           2.159324          \n",
      "\n",
      "   CortThk_L_paracentral lobule and sulcus_agesexsite  \\\n",
      "0                                           2.912427    \n",
      "1                                           2.587527    \n",
      "2                                           2.574815    \n",
      "3                                           2.875189    \n",
      "4                                           2.459181    \n",
      "\n",
      "   CortThk_L_subcentral gyrus and sulci_agesexsite  \\\n",
      "0                                         2.934398   \n",
      "1                                         2.701502   \n",
      "2                                         2.898028   \n",
      "3                                         2.953040   \n",
      "4                                         2.753013   \n",
      "\n",
      "   CortThk_L_transverse frontopolar gyri and sulci_agesexsite  \\\n",
      "0                                           2.819965            \n",
      "1                                           2.744096            \n",
      "2                                           2.509795            \n",
      "3                                           2.818771            \n",
      "4                                           2.839124            \n",
      "\n",
      "   CortThk_L_anterior part of the cingulate gyrus and sulcus_agesexsite  \\\n",
      "0                                           2.831150                      \n",
      "1                                           2.827460                      \n",
      "2                                           3.144528                      \n",
      "3                                           2.818237                      \n",
      "4                                           2.773230                      \n",
      "\n",
      "   CortThk_L_middle-anterior part of the cingulate gyrus and sulcus_agesexsite  \\\n",
      "0                                           2.922018                             \n",
      "1                                           2.850181                             \n",
      "2                                           2.847329                             \n",
      "3                                           2.988862                             \n",
      "4                                           2.907818                             \n",
      "\n",
      "   CortThk_L_middle-posterior part of the cingulate gyrus and sulcus_agesexsite  \\\n",
      "0                                           2.822215                              \n",
      "1                                           2.820168                              \n",
      "2                                           2.879187                              \n",
      "3                                           3.005440                              \n",
      "4                                           2.919441                              \n",
      "\n",
      "   CortThk_L_posterior-dorsal part of the cingulate gyrus_agesexsite  ...  \\\n",
      "0                                           2.960569                  ...   \n",
      "1                                           2.945951                  ...   \n",
      "2                                           3.428671                  ...   \n",
      "3                                           3.061936                  ...   \n",
      "4                                           3.099939                  ...   \n",
      "\n",
      "   CortThk_R_parieto-occipital sulcus_agesexsite  \\\n",
      "0                                       2.608888   \n",
      "1                                       2.418774   \n",
      "2                                       2.251096   \n",
      "3                                       2.392883   \n",
      "4                                       2.408377   \n",
      "\n",
      "   CortThk_R_pericallosal sulcus_agesexsite  \\\n",
      "0                                  1.562688   \n",
      "1                                  1.637476   \n",
      "2                                  1.781215   \n",
      "3                                  1.605931   \n",
      "4                                  1.750189   \n",
      "\n",
      "   CortThk_R_postcentral sulcus_agesexsite  \\\n",
      "0                                 2.479837   \n",
      "1                                 2.336411   \n",
      "2                                 2.377183   \n",
      "3                                 2.378057   \n",
      "4                                 2.292607   \n",
      "\n",
      "   CortThk_R_inferior part of the precentral sulcus_agesexsite  \\\n",
      "0                                           2.727045             \n",
      "1                                           2.581376             \n",
      "2                                           2.594154             \n",
      "3                                           2.626443             \n",
      "4                                           2.594221             \n",
      "\n",
      "   CortThk_R_superior part of the precentral sulcus_agesexsite  \\\n",
      "0                                           2.662839             \n",
      "1                                           2.609586             \n",
      "2                                           2.530763             \n",
      "3                                           2.832037             \n",
      "4                                           2.464710             \n",
      "\n",
      "   CortThk_R_suborbital sulcus_agesexsite  \\\n",
      "0                                2.557139   \n",
      "1                                2.285284   \n",
      "2                                2.907640   \n",
      "3                                1.940361   \n",
      "4                                2.531376   \n",
      "\n",
      "   CortThk_R_subparietal sulcus_agesexsite  \\\n",
      "0                                 2.585777   \n",
      "1                                 2.585975   \n",
      "2                                 2.631056   \n",
      "3                                 2.765288   \n",
      "4                                 2.418010   \n",
      "\n",
      "   CortThk_R_inferior temporal sulcus_agesexsite  \\\n",
      "0                                       2.793731   \n",
      "1                                       2.423427   \n",
      "2                                       2.467945   \n",
      "3                                       2.660695   \n",
      "4                                       2.406605   \n",
      "\n",
      "   CortThk_R_superior temporal sulcus_agesexsite  \\\n",
      "0                                       2.833731   \n",
      "1                                       2.678993   \n",
      "2                                       2.717116   \n",
      "3                                       2.861697   \n",
      "4                                       2.713704   \n",
      "\n",
      "   CortThk_R_transverse temporal sulcus_agesexsite  \n",
      "0                                         3.084946  \n",
      "1                                         2.861679  \n",
      "2                                         2.772383  \n",
      "3                                         3.296666  \n",
      "4                                         2.565857  \n",
      "\n",
      "[5 rows x 149 columns]\n"
     ]
    }
   ],
   "source": [
    "data_top = difncor_dfs['corticalthickness'].head()\n",
    "print(data_top)"
   ]
  },
  {
   "cell_type": "code",
   "execution_count": 40,
   "id": "757439af",
   "metadata": {},
   "outputs": [
    {
     "name": "stdout",
     "output_type": "stream",
     "text": [
      "src_subject_id                                              0\n",
      "CortThk_L_fronto-marginal gyrus and sulcus_agesexsite       0\n",
      "CortThk_L_inferior occipital gyrus and sulcus_agesexsite    0\n",
      "CortThk_L_paracentral lobule and sulcus_agesexsite          0\n",
      "CortThk_L_subcentral gyrus and sulci_agesexsite             0\n",
      "                                                           ..\n",
      "CortThk_R_suborbital sulcus_agesexsite                      0\n",
      "CortThk_R_subparietal sulcus_agesexsite                     0\n",
      "CortThk_R_inferior temporal sulcus_agesexsite               0\n",
      "CortThk_R_superior temporal sulcus_agesexsite               0\n",
      "CortThk_R_transverse temporal sulcus_agesexsite             0\n",
      "Length: 149, dtype: int64\n"
     ]
    }
   ],
   "source": [
    "column_nan_counts = difncor_dfs['corticalthickness'].isna().sum()\n",
    "print(column_nan_counts)"
   ]
  },
  {
   "cell_type": "code",
   "execution_count": 41,
   "id": "f8fedd6a",
   "metadata": {},
   "outputs": [
    {
     "name": "stdout",
     "output_type": "stream",
     "text": [
      "There are duplicated subjects False\n"
     ]
    }
   ],
   "source": [
    "print('There are duplicated subjects {}'.format(difncor_dfs['corticalthickness']['src_subject_id'].duplicated().any()))"
   ]
  },
  {
   "cell_type": "markdown",
   "id": "72f52d04",
   "metadata": {},
   "source": [
    "# Shared subjects of two dataframes"
   ]
  },
  {
   "cell_type": "code",
   "execution_count": 42,
   "id": "2cc022e1",
   "metadata": {},
   "outputs": [],
   "source": [
    "shared_subjects = set(dfs['outcome']['src_subject_id']).intersection(\\\n",
    "    set(dfs['DTIConnectData']['src_subject_id']),\\\n",
    "    set(dfs['restingstatedata']['src_subject_id']),\\\n",
    "    set(dfs['otherdata']['src_subject_id']),\\\n",
    "    set(difncor_dfs['diffusivity']['src_subject_id']),\\\n",
    "    set(difncor_dfs['corticalthickness']['src_subject_id']))"
   ]
  },
  {
   "cell_type": "code",
   "execution_count": 43,
   "id": "8f44e42d",
   "metadata": {},
   "outputs": [],
   "source": [
    "filtered_dfs = {sheet_name: df[df['src_subject_id'].isin(shared_subjects)] for sheet_name, df in dfs.items()}"
   ]
  },
  {
   "cell_type": "code",
   "execution_count": 45,
   "id": "cb7cab7f",
   "metadata": {},
   "outputs": [],
   "source": [
    "filtered_difncor_dfs = {sheet_name: df[df['src_subject_id'].isin(shared_subjects)] for sheet_name, df in difncor_dfs.items()}"
   ]
  },
  {
   "cell_type": "code",
   "execution_count": 46,
   "id": "f28fe799",
   "metadata": {},
   "outputs": [
    {
     "name": "stdout",
     "output_type": "stream",
     "text": [
      "In the filtered data frames, the number of subjects in each sheet is\n",
      "DTIConnectData 3946\n",
      "restingstatedata 3946\n",
      "otherdata 3946\n",
      "outcome 3946\n"
     ]
    }
   ],
   "source": [
    "print('In the filtered data frames, the number of subjects in each sheet is')\n",
    "for sheet_name, df in filtered_dfs.items():\n",
    "    print(sheet_name, len(df))"
   ]
  },
  {
   "cell_type": "code",
   "execution_count": 47,
   "id": "d71502ce",
   "metadata": {},
   "outputs": [
    {
     "name": "stdout",
     "output_type": "stream",
     "text": [
      "In the filtered data frames, the number of subjects in each sheet is\n",
      "diffusivity 3946\n",
      "corticalthickness 3946\n"
     ]
    }
   ],
   "source": [
    "print('In the filtered data frames, the number of subjects in each sheet is')\n",
    "for sheet_name, df in filtered_difncor_dfs.items():\n",
    "    print(sheet_name, len(df))"
   ]
  },
  {
   "cell_type": "code",
   "execution_count": null,
   "id": "2b6c45a0",
   "metadata": {},
   "outputs": [],
   "source": []
  }
 ],
 "metadata": {
  "kernelspec": {
   "display_name": "Python 3",
   "language": "python",
   "name": "python3"
  },
  "language_info": {
   "codemirror_mode": {
    "name": "ipython",
    "version": 3
   },
   "file_extension": ".py",
   "mimetype": "text/x-python",
   "name": "python",
   "nbconvert_exporter": "python",
   "pygments_lexer": "ipython3",
   "version": "3.8.10"
  }
 },
 "nbformat": 4,
 "nbformat_minor": 5
}
