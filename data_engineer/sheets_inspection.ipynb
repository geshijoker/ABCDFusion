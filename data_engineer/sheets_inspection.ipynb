{
 "cells": [
  {
   "cell_type": "code",
   "execution_count": 54,
   "id": "285e4429",
   "metadata": {},
   "outputs": [],
   "source": [
    "import os\n",
    "import errno\n",
    "import sys\n",
    "import time"
   ]
  },
  {
   "cell_type": "code",
   "execution_count": 55,
   "id": "5f5bddef",
   "metadata": {},
   "outputs": [],
   "source": [
    "import pandas as pd\n",
    "import sklearn \n",
    "import numpy as np\n",
    "import matplotlib.pyplot as plt"
   ]
  },
  {
   "cell_type": "code",
   "execution_count": 56,
   "id": "a753244f",
   "metadata": {},
   "outputs": [],
   "source": [
    "ROOT_PATH = '../'\n",
    "ORIGINAL_DATA = 'data/DataforGe_v2.xlsx'"
   ]
  },
  {
   "cell_type": "code",
   "execution_count": 57,
   "id": "446d3ddf",
   "metadata": {},
   "outputs": [],
   "source": [
    "orig_data_path = os.path.join(ROOT_PATH, ORIGINAL_DATA)"
   ]
  },
  {
   "cell_type": "code",
   "execution_count": 58,
   "id": "67d74373",
   "metadata": {},
   "outputs": [],
   "source": [
    "if os.path.isfile(orig_data_path):\n",
    "    dfs = pd.read_excel(orig_data_path, sheet_name=None)\n",
    "else:\n",
    "    raise FileNotFoundError(errno.ENOENT, os.strerror(errno.ENOENT), orig_data_path)"
   ]
  },
  {
   "cell_type": "code",
   "execution_count": 59,
   "id": "f62f2555",
   "metadata": {},
   "outputs": [
    {
     "name": "stdout",
     "output_type": "stream",
     "text": [
      "The loaded panda frames are dict_keys(['DTIConnectData', 'restingstatedata', 'WMtaskfmridata_Destreiux', 'WMtaskfmridata_APARC', 'otherdata', 'outcome', 'diffusivity', 'corticalthickness', 'corticalthicknesschange_sexsite', 'DTIConnect_SexSite', 'dontusechgcortthick', 'dontuseDTI', 'restingstatefmri_sexsite'])\n"
     ]
    }
   ],
   "source": [
    "sheet_names = dfs.keys()\n",
    "print('The loaded panda frames are', sheet_names)"
   ]
  },
  {
   "cell_type": "markdown",
   "id": "2c64cdd5",
   "metadata": {},
   "source": [
    "# Inspect outcome"
   ]
  },
  {
   "cell_type": "code",
   "execution_count": 60,
   "id": "5a4a0497",
   "metadata": {},
   "outputs": [
    {
     "name": "stdout",
     "output_type": "stream",
     "text": [
      "The DataFrame has 5237 rows.\n",
      "The DataFrame has 9 features.\n"
     ]
    }
   ],
   "source": [
    "row_count = len(dfs['outcome'])\n",
    "print(f'The DataFrame has {row_count} rows.')\n",
    "column_names = list(dfs['outcome'].columns.values)\n",
    "print(f'The DataFrame has {len(column_names)-1} features.')"
   ]
  },
  {
   "cell_type": "code",
   "execution_count": 61,
   "id": "61288b67",
   "metadata": {},
   "outputs": [
    {
     "name": "stdout",
     "output_type": "stream",
     "text": [
      "     src_subject_id  becomeCHR_3yr  diffusivity_all fibers_site  \\\n",
      "0  NDAR_INV00CY2MDM              0                     0.516813   \n",
      "1  NDAR_INV00HEV6HB              0                     0.504674   \n",
      "2  NDAR_INV00LH735Y              0                          NaN   \n",
      "3  NDAR_INV014RTM1V              0                     0.499351   \n",
      "4  NDAR_INV019DXLU4              0                     0.509719   \n",
      "\n",
      "   diffusivity_L_ hemisphere fibers_site  \\\n",
      "0                               0.516055   \n",
      "1                               0.503342   \n",
      "2                                    NaN   \n",
      "3                               0.493832   \n",
      "4                               0.507344   \n",
      "\n",
      "   diffusivity_L_ hemisphere fibers without corpus callosum_site  \\\n",
      "0                                           0.516193               \n",
      "1                                           0.503085               \n",
      "2                                                NaN               \n",
      "3                                           0.500397               \n",
      "4                                           0.509862               \n",
      "\n",
      "   diffusivity_R_hemisphere fibers without corpus callosum_site  \\\n",
      "0                                           0.515086              \n",
      "1                                           0.507389              \n",
      "2                                                NaN              \n",
      "3                                           0.511758              \n",
      "4                                           0.512501              \n",
      "\n",
      "   diffusivity_R_hemisphere fibers_site  CortThk_L_mean_agesexsite  \\\n",
      "0                              0.516470                   2.692631   \n",
      "1                              0.504825                   2.557290   \n",
      "2                                   NaN                   2.782191   \n",
      "3                              0.501866                   2.630886   \n",
      "4                              0.511280                   2.593274   \n",
      "\n",
      "   CortThk_R_mean_agesexsite  CortThkcortical Destrieux ROI mean_agesexsite  \n",
      "0                   2.718348                                       2.703962  \n",
      "1                   2.649288                                       2.664290  \n",
      "2                   2.765700                                       2.774875  \n",
      "3                   2.585186                                       2.647286  \n",
      "4                   2.499376                                       2.608235  \n"
     ]
    }
   ],
   "source": [
    "data_top = dfs['outcome'].head()\n",
    "print(data_top)"
   ]
  },
  {
   "cell_type": "code",
   "execution_count": 62,
   "id": "5bd3bb34",
   "metadata": {},
   "outputs": [
    {
     "name": "stdout",
     "output_type": "stream",
     "text": [
      "src_subject_id                                                     0\n",
      "becomeCHR_3yr                                                      0\n",
      "diffusivity_all fibers_site                                      976\n",
      "diffusivity_L_ hemisphere fibers_site                            976\n",
      "diffusivity_L_ hemisphere fibers without corpus callosum_site    976\n",
      "diffusivity_R_hemisphere fibers without corpus callosum_site     976\n",
      "diffusivity_R_hemisphere fibers_site                             976\n",
      "CortThk_L_mean_agesexsite                                        837\n",
      "CortThk_R_mean_agesexsite                                        837\n",
      "CortThkcortical Destrieux ROI mean_agesexsite                    837\n",
      "dtype: int64\n"
     ]
    }
   ],
   "source": [
    "column_nan_counts = dfs['outcome'].isna().sum()\n",
    "print(column_nan_counts)"
   ]
  },
  {
   "cell_type": "code",
   "execution_count": 63,
   "id": "7abdf9b4",
   "metadata": {},
   "outputs": [
    {
     "name": "stdout",
     "output_type": "stream",
     "text": [
      "There are duplicated subjects False\n"
     ]
    }
   ],
   "source": [
    "print('There are duplicated subjects {}'.format(dfs['outcome']['src_subject_id'].duplicated().any()))"
   ]
  },
  {
   "cell_type": "markdown",
   "id": "2bb81661",
   "metadata": {},
   "source": [
    "# Inspect DTIConnectData"
   ]
  },
  {
   "cell_type": "code",
   "execution_count": 64,
   "id": "4e065a5f",
   "metadata": {},
   "outputs": [
    {
     "name": "stdout",
     "output_type": "stream",
     "text": [
      "The DataFrame has 4246 rows.\n",
      "The DataFrame has 31 features.\n"
     ]
    }
   ],
   "source": [
    "row_count = len(dfs['DTIConnectData'])\n",
    "print(f'The DataFrame has {row_count} rows.')\n",
    "column_names = list(dfs['DTIConnectData'].columns.values)\n",
    "print(f'The DataFrame has {len(column_names)-1} features.')"
   ]
  },
  {
   "cell_type": "code",
   "execution_count": 65,
   "id": "f3c0a241",
   "metadata": {},
   "outputs": [],
   "source": [
    "data_top = dfs['DTIConnectData'].head()\n",
    "# print(data_top)"
   ]
  },
  {
   "cell_type": "code",
   "execution_count": 66,
   "id": "6759ebbc",
   "metadata": {},
   "outputs": [
    {
     "name": "stdout",
     "output_type": "stream",
     "text": [
      "src_subject_id                                0\n",
      "FA_cingulatecingulum_R_site                   0\n",
      "FA_CinguluteCingulum_L_site                   0\n",
      "FA_corpuscallosum_site                        0\n",
      "FA_Corticospinal_L_site                       0\n",
      "FA_Corticospinal_R_site                       0\n",
      "FA_forecepsmajor_site                         0\n",
      "FA_forecepsminor_site                         0\n",
      "FA_Fornix_L_site                              0\n",
      "FA_Fornix_R_site                              0\n",
      "FA_IFC_SupFrontal_L_site                      0\n",
      "FA_IFC_SupFrontal_R_site                      0\n",
      "FA_inferiorfrontooccipitalfasiculus_L_site    0\n",
      "FA_inferiorfrontooccipitalfasiculus_R_site    0\n",
      "FA_inferiorlongfascic_L_site                  0\n",
      "FA_inferiorlongfascic_R_site                  0\n",
      "FA_ParahippocampalCingulum_L_site             0\n",
      "FA_ParahippocampalCingulum_R_site             0\n",
      "FA_parietalSLF_L_site                         0\n",
      "FA_parietalSLF_R_site                         0\n",
      "FA_temporalSLF_L_site                         0\n",
      "FA_temporalSLF_R_site                         0\n",
      "FA_striatal_IFC_L_site                        0\n",
      "FA_striatal_IFC_R_site                        0\n",
      "FA_superiorcorticalstriate_Frontal_L_site     0\n",
      "FA_superiorcorticalstriate_Frontal_R_site     0\n",
      "FA_superiorcorticalstriate_Parietal_L_site    0\n",
      "FA_superiorcorticalstriate_Parietal_R_site    0\n",
      "FA_ThalamicRadiations_R_site                  0\n",
      "FA_thalamicradiations_L_site                  0\n",
      "FA_uncinate_L_site                            0\n",
      "FA_uncinate_R_site                            0\n",
      "dtype: int64\n"
     ]
    }
   ],
   "source": [
    "column_nan_counts = dfs['DTIConnectData'].isna().sum()\n",
    "print(column_nan_counts)"
   ]
  },
  {
   "cell_type": "code",
   "execution_count": 67,
   "id": "2439ad67",
   "metadata": {},
   "outputs": [
    {
     "name": "stdout",
     "output_type": "stream",
     "text": [
      "There are duplicated subjects False\n"
     ]
    }
   ],
   "source": [
    "print('There are duplicated subjects {}'.format(dfs['DTIConnectData']['src_subject_id'].duplicated().any()))"
   ]
  },
  {
   "cell_type": "markdown",
   "id": "6145a262",
   "metadata": {},
   "source": [
    "# Inspect restingstatedata"
   ]
  },
  {
   "cell_type": "code",
   "execution_count": 68,
   "id": "9a8af12a",
   "metadata": {},
   "outputs": [
    {
     "name": "stdout",
     "output_type": "stream",
     "text": [
      "The DataFrame has 4030 rows.\n",
      "The DataFrame has 270 features.\n"
     ]
    }
   ],
   "source": [
    "row_count = len(dfs['restingstatedata'])\n",
    "print(f'The DataFrame has {row_count} rows.')\n",
    "column_names = list(dfs['restingstatedata'].columns.values)\n",
    "print(f'The DataFrame has {len(column_names)-1} features.')"
   ]
  },
  {
   "cell_type": "code",
   "execution_count": 69,
   "id": "f6ff177c",
   "metadata": {},
   "outputs": [],
   "source": [
    "data_top = dfs['restingstatedata'].head()\n",
    "# print(data_top)"
   ]
  },
  {
   "cell_type": "code",
   "execution_count": 70,
   "id": "af1e4747",
   "metadata": {
    "scrolled": false
   },
   "outputs": [
    {
     "name": "stdout",
     "output_type": "stream",
     "text": [
      "src_subject_id                       0\n",
      "auditory_auditory_ABS_site           0\n",
      "auditory_cingulooper_ABS_site        0\n",
      "auditory_cinguloparietal_ABS_site    0\n",
      "auditory_DAN_ABS_site                0\n",
      "                                    ..\n",
      "VIS_pallidumR_ABS_site               0\n",
      "VIS_putamenL_ABS_site                0\n",
      "VIS_putamenR_ABS_site                0\n",
      "VIS_thalamusL_ABS_site               0\n",
      "VIS_thalamusR_ABS_site               0\n",
      "Length: 271, dtype: int64\n"
     ]
    }
   ],
   "source": [
    "column_nan_counts = dfs['restingstatedata'].isna().sum()\n",
    "print(column_nan_counts)"
   ]
  },
  {
   "cell_type": "code",
   "execution_count": 72,
   "id": "fe4992b6",
   "metadata": {},
   "outputs": [
    {
     "name": "stdout",
     "output_type": "stream",
     "text": [
      "There are duplicated subjects False\n"
     ]
    }
   ],
   "source": [
    "print('There are duplicated subjects {}'.format(dfs['restingstatedata']['src_subject_id'].duplicated().any()))"
   ]
  },
  {
   "cell_type": "markdown",
   "id": "32409965",
   "metadata": {},
   "source": [
    "# Inspect otherdata"
   ]
  },
  {
   "cell_type": "code",
   "execution_count": 73,
   "id": "8498812b",
   "metadata": {},
   "outputs": [
    {
     "name": "stdout",
     "output_type": "stream",
     "text": [
      "The DataFrame has 5237 rows.\n",
      "The DataFrame has 7 features.\n"
     ]
    }
   ],
   "source": [
    "row_count = len(dfs['otherdata'])\n",
    "print(f'The DataFrame has {row_count} rows.')\n",
    "column_names = list(dfs['otherdata'].columns.values)\n",
    "print(f'The DataFrame has {len(column_names)-1} features.')"
   ]
  },
  {
   "cell_type": "code",
   "execution_count": 74,
   "id": "25614eaa",
   "metadata": {},
   "outputs": [
    {
     "name": "stdout",
     "output_type": "stream",
     "text": [
      "     src_subject_id  ageat2yr  ravlt_sumtc_2yr  nihtbx_pattern_raw_2yr  \\\n",
      "0  NDAR_INV00CY2MDM      12.0               58                      46   \n",
      "1  NDAR_INV00HEV6HB      12.0               56                      45   \n",
      "2  NDAR_INV00LH735Y      11.0               83                      40   \n",
      "3  NDAR_INV014RTM1V      11.0               76                      45   \n",
      "4  NDAR_INV019DXLU4      12.0               74                      42   \n",
      "\n",
      "   SumNegLifeEvents  N_Trauma_Types  fam_history_8_yes_no  dropingrades_2yr  \n",
      "0                 6               2                     0                 1  \n",
      "1                 3               1                     0                 1  \n",
      "2                 4               0                     0                 0  \n",
      "3                 7               0                     0                 0  \n",
      "4                 7               3                     0                 0  \n"
     ]
    }
   ],
   "source": [
    "data_top = dfs['otherdata'].head()\n",
    "print(data_top)"
   ]
  },
  {
   "cell_type": "code",
   "execution_count": 75,
   "id": "29ac68d2",
   "metadata": {},
   "outputs": [
    {
     "name": "stdout",
     "output_type": "stream",
     "text": [
      "src_subject_id            0\n",
      "ageat2yr                  0\n",
      "ravlt_sumtc_2yr           0\n",
      "nihtbx_pattern_raw_2yr    0\n",
      "SumNegLifeEvents          0\n",
      "N_Trauma_Types            0\n",
      "fam_history_8_yes_no      0\n",
      "dropingrades_2yr          0\n",
      "dtype: int64\n"
     ]
    }
   ],
   "source": [
    "column_nan_counts = dfs['otherdata'].isna().sum()\n",
    "print(column_nan_counts)"
   ]
  },
  {
   "cell_type": "code",
   "execution_count": 76,
   "id": "3e0a2e2a",
   "metadata": {},
   "outputs": [
    {
     "name": "stdout",
     "output_type": "stream",
     "text": [
      "There are duplicated subjects False\n"
     ]
    }
   ],
   "source": [
    "print('There are duplicated subjects {}'.format(dfs['otherdata']['src_subject_id'].duplicated().any()))"
   ]
  },
  {
   "cell_type": "markdown",
   "id": "c51c2ae5",
   "metadata": {},
   "source": [
    "# Shared subjects"
   ]
  },
  {
   "cell_type": "code",
   "execution_count": 77,
   "id": "abd724b2",
   "metadata": {},
   "outputs": [],
   "source": [
    "shared_subjects = set(dfs['outcome']['src_subject_id']).intersection(\\\n",
    "    set(dfs['DTIConnectData']['src_subject_id']),\\\n",
    "    set(dfs['restingstatedata']['src_subject_id']),\\\n",
    "    set(dfs['otherdata']['src_subject_id']))"
   ]
  },
  {
   "cell_type": "code",
   "execution_count": 78,
   "id": "9a90ac38",
   "metadata": {},
   "outputs": [],
   "source": [
    "filtered_dfs = {sheet_name: df[df['src_subject_id'].isin(shared_subjects)] for sheet_name, df in dfs.items()}"
   ]
  },
  {
   "cell_type": "code",
   "execution_count": 79,
   "id": "6676f21d",
   "metadata": {},
   "outputs": [
    {
     "name": "stdout",
     "output_type": "stream",
     "text": [
      "In the filtered data frames, the number of subjects in each sheet is\n",
      "DTIConnectData 3945\n",
      "restingstatedata 3945\n",
      "WMtaskfmridata_Destreiux 3507\n",
      "WMtaskfmridata_APARC 3507\n",
      "otherdata 3945\n",
      "outcome 3945\n",
      "diffusivity 3945\n",
      "corticalthickness 3945\n",
      "corticalthicknesschange_sexsite 3811\n",
      "DTIConnect_SexSite 3945\n",
      "dontusechgcortthick 3811\n",
      "dontuseDTI 3945\n",
      "restingstatefmri_sexsite 3945\n"
     ]
    }
   ],
   "source": [
    "print('In the filtered data frames, the number of subjects in each sheet is')\n",
    "for sheet_name, df in filtered_dfs.items():\n",
    "    print(sheet_name, len(df))"
   ]
  },
  {
   "cell_type": "markdown",
   "id": "24718982",
   "metadata": {},
   "source": [
    "# Load diffusivity & corticalthickness data"
   ]
  },
  {
   "cell_type": "code",
   "execution_count": 80,
   "id": "8327a44f",
   "metadata": {},
   "outputs": [],
   "source": [
    "DIFnCOR_DATA = 'data/diffusivityandcorticalthicknessdataforGe.xlsx'"
   ]
  },
  {
   "cell_type": "code",
   "execution_count": 81,
   "id": "76d87041",
   "metadata": {},
   "outputs": [],
   "source": [
    "difncor_data_path = os.path.join(ROOT_PATH, DIFnCOR_DATA)"
   ]
  },
  {
   "cell_type": "code",
   "execution_count": 82,
   "id": "c78b5f29",
   "metadata": {},
   "outputs": [],
   "source": [
    "if os.path.isfile(difncor_data_path):\n",
    "    difncor_dfs = pd.read_excel(difncor_data_path, sheet_name=None)\n",
    "else:\n",
    "    raise FileNotFoundError(errno.ENOENT, os.strerror(errno.ENOENT), difncor_data_path)"
   ]
  },
  {
   "cell_type": "code",
   "execution_count": 83,
   "id": "85c2e22c",
   "metadata": {},
   "outputs": [
    {
     "name": "stdout",
     "output_type": "stream",
     "text": [
      "The loaded panda frames are dict_keys(['diffusivity', 'corticalthickness'])\n"
     ]
    }
   ],
   "source": [
    "sheet_names = difncor_dfs.keys()\n",
    "print('The loaded panda frames are', sheet_names)"
   ]
  },
  {
   "cell_type": "markdown",
   "id": "fe5788bf",
   "metadata": {},
   "source": [
    "# Inspect diffusivity data"
   ]
  },
  {
   "cell_type": "code",
   "execution_count": 84,
   "id": "eed45a85",
   "metadata": {},
   "outputs": [
    {
     "name": "stdout",
     "output_type": "stream",
     "text": [
      "The DataFrame has 4261 rows.\n",
      "The DataFrame has 37 features.\n"
     ]
    }
   ],
   "source": [
    "row_count = len(difncor_dfs['diffusivity'])\n",
    "print(f'The DataFrame has {row_count} rows.')\n",
    "column_names = list(difncor_dfs['diffusivity'].columns.values)\n",
    "print(f'The DataFrame has {len(column_names)-1} features.')"
   ]
  },
  {
   "cell_type": "code",
   "execution_count": 85,
   "id": "8f4b164e",
   "metadata": {
    "scrolled": true
   },
   "outputs": [
    {
     "name": "stdout",
     "output_type": "stream",
     "text": [
      "     src_subject_id  diffusivity_L_ anterior thalamic radiations_site  \\\n",
      "0  NDAR_INVM15U5KMV                                          0.516047   \n",
      "1  NDAR_INVAWG2NZC4                                          0.532019   \n",
      "2  NDAR_INV0TEH16CM                                          0.543361   \n",
      "3  NDAR_INVF1XKPBT6                                          0.511484   \n",
      "4  NDAR_INV019DXLU4                                          0.528977   \n",
      "\n",
      "   diffusivity_R_anterior thalamic radiations_site  \\\n",
      "0                                         0.533702   \n",
      "1                                         0.538652   \n",
      "2                                         0.568602   \n",
      "3                                         0.505654   \n",
      "4                                         0.530402   \n",
      "\n",
      "   diffusivity_corpus callosum_site  diffusivity_L_ cingulate cingulum_site  \\\n",
      "0                          0.494924                                0.506804   \n",
      "1                          0.510121                                0.523930   \n",
      "2                          0.542760                                0.555940   \n",
      "3                          0.486878                                0.507518   \n",
      "4                          0.506545                                0.525357   \n",
      "\n",
      "   diffusivity_R_cingulate cingulum_site  \\\n",
      "0                               0.522011   \n",
      "1                               0.525440   \n",
      "2                               0.571231   \n",
      "3                               0.513439   \n",
      "4                               0.515154   \n",
      "\n",
      "   diffusivity_L_ parahippocampal cingulum_site  \\\n",
      "0                                      0.628291   \n",
      "1                                      0.617579   \n",
      "2                                      0.629202   \n",
      "3                                      0.585443   \n",
      "4                                      0.593299   \n",
      "\n",
      "   diffusivity_R_parahippocampal cingulum_site  \\\n",
      "0                                     0.624122   \n",
      "1                                     0.601057   \n",
      "2                                     0.615049   \n",
      "3                                     0.591687   \n",
      "4                                     0.590245   \n",
      "\n",
      "   diffusivity_L_ corticospinal/pyramidal_site  \\\n",
      "0                                     0.455090   \n",
      "1                                     0.468625   \n",
      "2                                     0.470211   \n",
      "3                                     0.464644   \n",
      "4                                     0.453498   \n",
      "\n",
      "   diffusivity_R_corticospinal/pyramidal_site  ...  \\\n",
      "0                                    0.457208  ...   \n",
      "1                                    0.477564  ...   \n",
      "2                                    0.469557  ...   \n",
      "3                                    0.462093  ...   \n",
      "4                                    0.456394  ...   \n",
      "\n",
      "   diffusivity_L_ superior corticostriate_site  \\\n",
      "0                                     0.492942   \n",
      "1                                     0.492076   \n",
      "2                                     0.520383   \n",
      "3                                     0.499006   \n",
      "4                                     0.484279   \n",
      "\n",
      "   diffusivity_R_superior corticostriate_site  \\\n",
      "0                                    0.486002   \n",
      "1                                    0.492273   \n",
      "2                                    0.520695   \n",
      "3                                    0.479730   \n",
      "4                                    0.474355   \n",
      "\n",
      "   diffusivity_L_ striatal inferior frontal cortex_site  \\\n",
      "0                                           0.532732      \n",
      "1                                           0.543031      \n",
      "2                                           0.581553      \n",
      "3                                           0.520717      \n",
      "4                                           0.515568      \n",
      "\n",
      "   diffusivity_R_striatal inferior frontal cortex_site  \\\n",
      "0                                           0.525780     \n",
      "1                                           0.550562     \n",
      "2                                           0.568944     \n",
      "3                                           0.508689     \n",
      "4                                           0.530053     \n",
      "\n",
      "   diffusivity_L_ superior longitudinal fasiculus_site  \\\n",
      "0                                           0.468013     \n",
      "1                                           0.468871     \n",
      "2                                           0.494251     \n",
      "3                                           0.474021     \n",
      "4                                           0.454282     \n",
      "\n",
      "   diffusivity_R_superior longitudinal fasiculus_site  \\\n",
      "0                                           0.474982    \n",
      "1                                           0.470567    \n",
      "2                                           0.506138    \n",
      "3                                           0.464385    \n",
      "4                                           0.458204    \n",
      "\n",
      "   diffusivity_L_ temporal superior longitudinal fasiculus_site  \\\n",
      "0                                           0.471343              \n",
      "1                                           0.473901              \n",
      "2                                           0.495259              \n",
      "3                                           0.473048              \n",
      "4                                           0.455997              \n",
      "\n",
      "   diffusivity_R_temporal superior longitudinal fasiculus_site  \\\n",
      "0                                           0.473699             \n",
      "1                                           0.480580             \n",
      "2                                           0.511260             \n",
      "3                                           0.469398             \n",
      "4                                           0.460797             \n",
      "\n",
      "   diffusivity_L_ uncinate_site  diffusivity_R_uncinate_site  \n",
      "0                      0.573778                     0.566283  \n",
      "1                      0.594414                     0.590389  \n",
      "2                      0.622041                     0.611102  \n",
      "3                      0.562599                     0.559396  \n",
      "4                      0.562599                     0.576614  \n",
      "\n",
      "[5 rows x 38 columns]\n"
     ]
    }
   ],
   "source": [
    "data_top = difncor_dfs['diffusivity'].head()\n",
    "print(data_top)"
   ]
  },
  {
   "cell_type": "code",
   "execution_count": 86,
   "id": "d377cab5",
   "metadata": {},
   "outputs": [
    {
     "name": "stdout",
     "output_type": "stream",
     "text": [
      "src_subject_id                                                       0\n",
      "diffusivity_L_ anterior thalamic radiations_site                    15\n",
      "diffusivity_R_anterior thalamic radiations_site                     15\n",
      "diffusivity_corpus callosum_site                                    15\n",
      "diffusivity_L_ cingulate cingulum_site                              15\n",
      "diffusivity_R_cingulate cingulum_site                               15\n",
      "diffusivity_L_ parahippocampal cingulum_site                        15\n",
      "diffusivity_R_parahippocampal cingulum_site                         15\n",
      "diffusivity_L_ corticospinal/pyramidal_site                         15\n",
      "diffusivity_R_corticospinal/pyramidal_site                          15\n",
      "diffusivity_foreceps major_site                                     15\n",
      "diffusivity_foreceps minor_site                                     15\n",
      "diffusivity_L_ superior corticostriate-frontal cortex only_site     15\n",
      "diffusivity_R_superior corticostriate-frontal cortex only_site      15\n",
      "diffusivity_L_ fornix, excluding fimbria_site                       15\n",
      "diffusivity_R_fornix, excluding fimbria_site                        15\n",
      "diffusivity_L_ fornix_site                                          15\n",
      "diffusivity_R_fornix_site                                           15\n",
      "diffusivity_L_ inferior-fronto-occipital fasiculus_site             15\n",
      "diffusivity_R_inferior-fronto-occipital fasiculus_site              15\n",
      "diffusivity_L_ inferior frontal superior frontal cortex_site        15\n",
      "diffusivity_R_inferior frontal superior frontal cortex_site         15\n",
      "diffusivity_L_ inferior longitudinal fasiculus_site                 15\n",
      "diffusivity_R_inferior longitudinal fasiculus_site                  15\n",
      "diffusivity_L_ superior corticostriate-parietal cortex only_site    15\n",
      "diffusivity_R_superior corticostriate-parietal cortex only_site     15\n",
      "diffusivity_L_ parietal superior longitudinal fasiculus_site        15\n",
      "diffusivity_R_parietal superior longitudinal fasiculus_site         15\n",
      "diffusivity_L_ superior corticostriate_site                         15\n",
      "diffusivity_R_superior corticostriate_site                          15\n",
      "diffusivity_L_ striatal inferior frontal cortex_site                15\n",
      "diffusivity_R_striatal inferior frontal cortex_site                 15\n",
      "diffusivity_L_ superior longitudinal fasiculus_site                 15\n",
      "diffusivity_R_superior longitudinal fasiculus_site                  15\n",
      "diffusivity_L_ temporal superior longitudinal fasiculus_site        15\n",
      "diffusivity_R_temporal superior longitudinal fasiculus_site         15\n",
      "diffusivity_L_ uncinate_site                                        15\n",
      "diffusivity_R_uncinate_site                                         15\n",
      "dtype: int64\n"
     ]
    }
   ],
   "source": [
    "column_nan_counts = difncor_dfs['diffusivity'].isna().sum()\n",
    "print(column_nan_counts)"
   ]
  },
  {
   "cell_type": "code",
   "execution_count": 87,
   "id": "e5c212be",
   "metadata": {},
   "outputs": [
    {
     "name": "stdout",
     "output_type": "stream",
     "text": [
      "There are duplicated subjects False\n"
     ]
    }
   ],
   "source": [
    "print('There are duplicated subjects {}'.format(difncor_dfs['diffusivity']['src_subject_id'].duplicated().any()))"
   ]
  },
  {
   "cell_type": "code",
   "execution_count": 88,
   "id": "2b6d45bf",
   "metadata": {},
   "outputs": [
    {
     "name": "stdout",
     "output_type": "stream",
     "text": [
      "The DataFrame has 4246 rows.\n",
      "The DataFrame has 37 features.\n"
     ]
    }
   ],
   "source": [
    "# dropna\n",
    "difncor_dfs['diffusivity'] = difncor_dfs['diffusivity'].dropna()\n",
    "row_count = len(difncor_dfs['diffusivity'])\n",
    "print(f'The DataFrame has {row_count} rows.')\n",
    "column_names = list(difncor_dfs['diffusivity'].columns.values)\n",
    "print(f'The DataFrame has {len(column_names)-1} features.')"
   ]
  },
  {
   "cell_type": "markdown",
   "id": "1145f73c",
   "metadata": {},
   "source": [
    "# Inspect corticalthickness data"
   ]
  },
  {
   "cell_type": "code",
   "execution_count": 89,
   "id": "7bf5867e",
   "metadata": {},
   "outputs": [
    {
     "name": "stdout",
     "output_type": "stream",
     "text": [
      "The DataFrame has 4400 rows.\n",
      "The DataFrame has 148 features.\n"
     ]
    }
   ],
   "source": [
    "row_count = len(difncor_dfs['corticalthickness'])\n",
    "print(f'The DataFrame has {row_count} rows.')\n",
    "column_names = list(difncor_dfs['corticalthickness'].columns.values)\n",
    "print(f'The DataFrame has {len(column_names)-1} features.')"
   ]
  },
  {
   "cell_type": "code",
   "execution_count": 90,
   "id": "4b80a086",
   "metadata": {},
   "outputs": [
    {
     "name": "stdout",
     "output_type": "stream",
     "text": [
      "     src_subject_id  CortThk_L_fronto-marginal gyrus and sulcus_agesexsite  \\\n",
      "0  NDAR_INV00LH735Y                                           2.454222       \n",
      "1  NDAR_INV1YWMB9TV                                           2.550441       \n",
      "2  NDAR_INV25RHG3PJ                                           2.280261       \n",
      "3  NDAR_INV2DZUL8LC                                           2.811705       \n",
      "4  NDAR_INV2K3JH38W                                           2.431327       \n",
      "\n",
      "   CortThk_L_inferior occipital gyrus and sulcus_agesexsite  \\\n",
      "0                                           2.572241          \n",
      "1                                           2.501550          \n",
      "2                                           2.506715          \n",
      "3                                           2.545938          \n",
      "4                                           2.159324          \n",
      "\n",
      "   CortThk_L_paracentral lobule and sulcus_agesexsite  \\\n",
      "0                                           2.912427    \n",
      "1                                           2.587527    \n",
      "2                                           2.574815    \n",
      "3                                           2.875189    \n",
      "4                                           2.459181    \n",
      "\n",
      "   CortThk_L_subcentral gyrus and sulci_agesexsite  \\\n",
      "0                                         2.934398   \n",
      "1                                         2.701502   \n",
      "2                                         2.898028   \n",
      "3                                         2.953040   \n",
      "4                                         2.753013   \n",
      "\n",
      "   CortThk_L_transverse frontopolar gyri and sulci_agesexsite  \\\n",
      "0                                           2.819965            \n",
      "1                                           2.744096            \n",
      "2                                           2.509795            \n",
      "3                                           2.818771            \n",
      "4                                           2.839124            \n",
      "\n",
      "   CortThk_L_anterior part of the cingulate gyrus and sulcus_agesexsite  \\\n",
      "0                                           2.831150                      \n",
      "1                                           2.827460                      \n",
      "2                                           3.144528                      \n",
      "3                                           2.818237                      \n",
      "4                                           2.773230                      \n",
      "\n",
      "   CortThk_L_middle-anterior part of the cingulate gyrus and sulcus_agesexsite  \\\n",
      "0                                           2.922018                             \n",
      "1                                           2.850181                             \n",
      "2                                           2.847329                             \n",
      "3                                           2.988862                             \n",
      "4                                           2.907818                             \n",
      "\n",
      "   CortThk_L_middle-posterior part of the cingulate gyrus and sulcus_agesexsite  \\\n",
      "0                                           2.822215                              \n",
      "1                                           2.820168                              \n",
      "2                                           2.879187                              \n",
      "3                                           3.005440                              \n",
      "4                                           2.919441                              \n",
      "\n",
      "   CortThk_L_posterior-dorsal part of the cingulate gyrus_agesexsite  ...  \\\n",
      "0                                           2.960569                  ...   \n",
      "1                                           2.945951                  ...   \n",
      "2                                           3.428671                  ...   \n",
      "3                                           3.061936                  ...   \n",
      "4                                           3.099939                  ...   \n",
      "\n",
      "   CortThk_R_parieto-occipital sulcus_agesexsite  \\\n",
      "0                                       2.608888   \n",
      "1                                       2.418774   \n",
      "2                                       2.251096   \n",
      "3                                       2.392883   \n",
      "4                                       2.408377   \n",
      "\n",
      "   CortThk_R_pericallosal sulcus_agesexsite  \\\n",
      "0                                  1.562688   \n",
      "1                                  1.637476   \n",
      "2                                  1.781215   \n",
      "3                                  1.605931   \n",
      "4                                  1.750189   \n",
      "\n",
      "   CortThk_R_postcentral sulcus_agesexsite  \\\n",
      "0                                 2.479837   \n",
      "1                                 2.336411   \n",
      "2                                 2.377183   \n",
      "3                                 2.378057   \n",
      "4                                 2.292607   \n",
      "\n",
      "   CortThk_R_inferior part of the precentral sulcus_agesexsite  \\\n",
      "0                                           2.727045             \n",
      "1                                           2.581376             \n",
      "2                                           2.594154             \n",
      "3                                           2.626443             \n",
      "4                                           2.594221             \n",
      "\n",
      "   CortThk_R_superior part of the precentral sulcus_agesexsite  \\\n",
      "0                                           2.662839             \n",
      "1                                           2.609586             \n",
      "2                                           2.530763             \n",
      "3                                           2.832037             \n",
      "4                                           2.464710             \n",
      "\n",
      "   CortThk_R_suborbital sulcus_agesexsite  \\\n",
      "0                                2.557139   \n",
      "1                                2.285284   \n",
      "2                                2.907640   \n",
      "3                                1.940361   \n",
      "4                                2.531376   \n",
      "\n",
      "   CortThk_R_subparietal sulcus_agesexsite  \\\n",
      "0                                 2.585777   \n",
      "1                                 2.585975   \n",
      "2                                 2.631056   \n",
      "3                                 2.765288   \n",
      "4                                 2.418010   \n",
      "\n",
      "   CortThk_R_inferior temporal sulcus_agesexsite  \\\n",
      "0                                       2.793731   \n",
      "1                                       2.423427   \n",
      "2                                       2.467945   \n",
      "3                                       2.660695   \n",
      "4                                       2.406605   \n",
      "\n",
      "   CortThk_R_superior temporal sulcus_agesexsite  \\\n",
      "0                                       2.833731   \n",
      "1                                       2.678993   \n",
      "2                                       2.717116   \n",
      "3                                       2.861697   \n",
      "4                                       2.713704   \n",
      "\n",
      "   CortThk_R_transverse temporal sulcus_agesexsite  \n",
      "0                                         3.084946  \n",
      "1                                         2.861679  \n",
      "2                                         2.772383  \n",
      "3                                         3.296666  \n",
      "4                                         2.565857  \n",
      "\n",
      "[5 rows x 149 columns]\n"
     ]
    }
   ],
   "source": [
    "data_top = difncor_dfs['corticalthickness'].head()\n",
    "print(data_top)"
   ]
  },
  {
   "cell_type": "code",
   "execution_count": 91,
   "id": "543950a2",
   "metadata": {},
   "outputs": [
    {
     "name": "stdout",
     "output_type": "stream",
     "text": [
      "src_subject_id                                              0\n",
      "CortThk_L_fronto-marginal gyrus and sulcus_agesexsite       0\n",
      "CortThk_L_inferior occipital gyrus and sulcus_agesexsite    0\n",
      "CortThk_L_paracentral lobule and sulcus_agesexsite          0\n",
      "CortThk_L_subcentral gyrus and sulci_agesexsite             0\n",
      "                                                           ..\n",
      "CortThk_R_suborbital sulcus_agesexsite                      0\n",
      "CortThk_R_subparietal sulcus_agesexsite                     0\n",
      "CortThk_R_inferior temporal sulcus_agesexsite               0\n",
      "CortThk_R_superior temporal sulcus_agesexsite               0\n",
      "CortThk_R_transverse temporal sulcus_agesexsite             0\n",
      "Length: 149, dtype: int64\n"
     ]
    }
   ],
   "source": [
    "column_nan_counts = difncor_dfs['corticalthickness'].isna().sum()\n",
    "print(column_nan_counts)"
   ]
  },
  {
   "cell_type": "code",
   "execution_count": 92,
   "id": "abf07d2f",
   "metadata": {},
   "outputs": [
    {
     "name": "stdout",
     "output_type": "stream",
     "text": [
      "There are duplicated subjects False\n"
     ]
    }
   ],
   "source": [
    "print('There are duplicated subjects {}'.format(difncor_dfs['corticalthickness']['src_subject_id'].duplicated().any()))"
   ]
  },
  {
   "cell_type": "markdown",
   "id": "cf3d9937",
   "metadata": {},
   "source": [
    "# Shared subjects of two dataframes"
   ]
  },
  {
   "cell_type": "code",
   "execution_count": 93,
   "id": "f025a8ad",
   "metadata": {},
   "outputs": [],
   "source": [
    "shared_subjects = set(dfs['outcome']['src_subject_id']).intersection(\\\n",
    "    set(dfs['DTIConnectData']['src_subject_id']),\\\n",
    "    set(dfs['restingstatedata']['src_subject_id']),\\\n",
    "    set(dfs['otherdata']['src_subject_id']),\\\n",
    "    set(difncor_dfs['diffusivity']['src_subject_id']),\\\n",
    "    set(difncor_dfs['corticalthickness']['src_subject_id']))"
   ]
  },
  {
   "cell_type": "code",
   "execution_count": 94,
   "id": "605054e3",
   "metadata": {},
   "outputs": [],
   "source": [
    "filtered_dfs = {sheet_name: df[df['src_subject_id'].isin(shared_subjects)] for sheet_name, df in dfs.items()}"
   ]
  },
  {
   "cell_type": "code",
   "execution_count": 95,
   "id": "cc418d62",
   "metadata": {},
   "outputs": [],
   "source": [
    "filtered_difncor_dfs = {sheet_name: df[df['src_subject_id'].isin(shared_subjects)] for sheet_name, df in difncor_dfs.items()}"
   ]
  },
  {
   "cell_type": "code",
   "execution_count": 96,
   "id": "18f7096a",
   "metadata": {},
   "outputs": [
    {
     "name": "stdout",
     "output_type": "stream",
     "text": [
      "In the filtered data frames, the number of subjects in each sheet is\n",
      "DTIConnectData 3945\n",
      "restingstatedata 3945\n",
      "WMtaskfmridata_Destreiux 3507\n",
      "WMtaskfmridata_APARC 3507\n",
      "otherdata 3945\n",
      "outcome 3945\n",
      "diffusivity 3945\n",
      "corticalthickness 3945\n",
      "corticalthicknesschange_sexsite 3811\n",
      "DTIConnect_SexSite 3945\n",
      "dontusechgcortthick 3811\n",
      "dontuseDTI 3945\n",
      "restingstatefmri_sexsite 3945\n"
     ]
    }
   ],
   "source": [
    "print('In the filtered data frames, the number of subjects in each sheet is')\n",
    "for sheet_name, df in filtered_dfs.items():\n",
    "    print(sheet_name, len(df))"
   ]
  },
  {
   "cell_type": "code",
   "execution_count": 97,
   "id": "f1f8418f",
   "metadata": {
    "scrolled": true
   },
   "outputs": [
    {
     "name": "stdout",
     "output_type": "stream",
     "text": [
      "In the filtered data frames, the number of subjects in each sheet is\n",
      "diffusivity 3945\n",
      "corticalthickness 3945\n"
     ]
    }
   ],
   "source": [
    "print('In the filtered data frames, the number of subjects in each sheet is')\n",
    "for sheet_name, df in filtered_difncor_dfs.items():\n",
    "    print(sheet_name, len(df))"
   ]
  },
  {
   "cell_type": "markdown",
   "id": "2679c8d5",
   "metadata": {},
   "source": [
    "# Inspect corticalthicknesschange_sexsite data"
   ]
  },
  {
   "cell_type": "code",
   "execution_count": 98,
   "id": "527f48d4",
   "metadata": {},
   "outputs": [
    {
     "name": "stdout",
     "output_type": "stream",
     "text": [
      "The DataFrame has 4241 rows.\n",
      "The DataFrame has 148 features.\n"
     ]
    }
   ],
   "source": [
    "row_count = len(dfs['corticalthicknesschange_sexsite'])\n",
    "print(f'The DataFrame has {row_count} rows.')\n",
    "column_names = list(dfs['corticalthicknesschange_sexsite'].columns.values)\n",
    "print(f'The DataFrame has {len(column_names)-1} features.')"
   ]
  },
  {
   "cell_type": "code",
   "execution_count": 99,
   "id": "b65300e1",
   "metadata": {},
   "outputs": [],
   "source": [
    "data_top = dfs['corticalthicknesschange_sexsite'].head()\n",
    "# print(data_top)"
   ]
  },
  {
   "cell_type": "code",
   "execution_count": 100,
   "id": "e0f72d33",
   "metadata": {},
   "outputs": [
    {
     "name": "stdout",
     "output_type": "stream",
     "text": [
      "src_subject_id                                               0\n",
      "chg_CortThk_L_fronto-marginal gyrus and sulcus_sexsite       0\n",
      "chg_CortThk_L_inferior occipital gyrus and sulcus_sexsite    0\n",
      "chg_CortThk_L_paracentral lobule and sulcus_sexsite          0\n",
      "chg_CortThk_L_subcentral gyrus and sulci_sexsite             0\n",
      "                                                            ..\n",
      "chg_CortThk_R_suborbital sulcus_sexsite                      0\n",
      "chg_CortThk_R_subparietal sulcus_sexsite                     0\n",
      "chg_CortThk_R_inferior temporal sulcus_sexsite               0\n",
      "chg_CortThk_R_superior temporal sulcus_sexsite               0\n",
      "chg_CortThk_R_transverse temporal sulcus_sexsite             0\n",
      "Length: 149, dtype: int64\n"
     ]
    }
   ],
   "source": [
    "column_nan_counts = dfs['corticalthicknesschange_sexsite'].isna().sum()\n",
    "print(column_nan_counts)"
   ]
  },
  {
   "cell_type": "code",
   "execution_count": 101,
   "id": "28753c39",
   "metadata": {},
   "outputs": [
    {
     "name": "stdout",
     "output_type": "stream",
     "text": [
      "There are duplicated subjects False\n"
     ]
    }
   ],
   "source": [
    "print('There are duplicated subjects {}'.format(dfs['corticalthicknesschange_sexsite']['src_subject_id'].duplicated().any()))"
   ]
  },
  {
   "cell_type": "markdown",
   "id": "6a7ad189",
   "metadata": {},
   "source": [
    "# Inspect DTIConnect_SexSite data"
   ]
  },
  {
   "cell_type": "code",
   "execution_count": 102,
   "id": "4a0838e2",
   "metadata": {},
   "outputs": [
    {
     "name": "stdout",
     "output_type": "stream",
     "text": [
      "The DataFrame has 4246 rows.\n",
      "The DataFrame has 37 features.\n"
     ]
    }
   ],
   "source": [
    "row_count = len(dfs['DTIConnect_SexSite'])\n",
    "print(f'The DataFrame has {row_count} rows.')\n",
    "column_names = list(dfs['DTIConnect_SexSite'].columns.values)\n",
    "print(f'The DataFrame has {len(column_names)-1} features.')"
   ]
  },
  {
   "cell_type": "code",
   "execution_count": 103,
   "id": "410b43a6",
   "metadata": {},
   "outputs": [],
   "source": [
    "data_top = dfs['DTIConnect_SexSite'].head()\n",
    "# print(data_top)"
   ]
  },
  {
   "cell_type": "code",
   "execution_count": 104,
   "id": "03881b3b",
   "metadata": {},
   "outputs": [
    {
     "name": "stdout",
     "output_type": "stream",
     "text": [
      "src_subject_id                                                       0\n",
      "yr2_FA_left anterior thalamic radiations_sexsite                     0\n",
      "yr2_FA_right anterior thalamic radiations_sexsite                    0\n",
      "yr2_FA_corpus callosum_sexsite                                       0\n",
      "yr2_FA_left cingulate cingulum_sexsite                               0\n",
      "yr2_FA_right cingulate cingulum_sexsite                              0\n",
      "yr2_FA_left parahippocampal cingulum_sexsite                         0\n",
      "yr2_FA_right parahippocampal cingulum_sexsite                        0\n",
      "yr2_FA_left corticospinal/pyramidal_sexsite                          0\n",
      "yr2_FA_right corticospinal/pyramidal_sexsite                         0\n",
      "yr2_FA_foreceps major_sexsite                                        0\n",
      "yr2_FA_foreceps minor_sexsite                                        0\n",
      "yr2_FA_left superior corticostriate-frontal cortex only_sexsite      0\n",
      "yr2_FA_right superior corticostriate-frontal cortex only_sexsite     0\n",
      "yr2_FA_left fornix, excluding fimbria_sexsite                        0\n",
      "yr2_FA_right fornix, excluding fimbria_sexsite                       0\n",
      "yr2_FA_left fornix_sexsite                                           0\n",
      "yr2_FA_right fornix_sexsite                                          0\n",
      "yr2_FA_left inferior-fronto-occipital fasiculus_sexsite              0\n",
      "yr2_FA_right inferior-fronto-occipital fasiculus_sexsite             0\n",
      "yr2_FA_left inferior frontal superior frontal cortex_sexsite         0\n",
      "yr2_FA_right inferior frontal superior frontal cortex_sexsite        0\n",
      "yr2_FA_left inferior longitudinal fasiculus_sexsite                  0\n",
      "yr2_FA_right inferior longitudinal fasiculus_sexsite                 0\n",
      "yr2_FA_left superior corticostriate-parietal cortex only_sexsite     0\n",
      "yr2_FA_right superior corticostriate-parietal cortex only_sexsite    0\n",
      "yr2_FA_left parietal superior longitudinal fasiculus_sexsite         0\n",
      "yr2_FA_right parietal superior longitudinal fasiculus_sexsite        0\n",
      "yr2_FA_left superior corticostriate_sexsite                          0\n",
      "yr2_FA_right superior corticostriate_sexsite                         0\n",
      "yr2_FA_left striatal inferior frontal cortex_sexsite                 0\n",
      "yr2_FA_right striatal inferior frontal cortex_sexsite                0\n",
      "yr2_FA_left superior longitudinal fasiculus_sexsite                  0\n",
      "yr2_FA_right superior longitudinal fasiculus_sexsite                 0\n",
      "yr2_FA_left temporal superior longitudinal fasiculus_sexsite         0\n",
      "yr2_FA_right temporal superior longitudinal fasiculus_sexsite        0\n",
      "yr2_FA_left uncinate_sexsite                                         0\n",
      "yr2_FA_right uncinate_sexsite                                        0\n",
      "dtype: int64\n"
     ]
    }
   ],
   "source": [
    "column_nan_counts = dfs['DTIConnect_SexSite'].isna().sum()\n",
    "print(column_nan_counts)"
   ]
  },
  {
   "cell_type": "code",
   "execution_count": 105,
   "id": "fcfa3d52",
   "metadata": {},
   "outputs": [
    {
     "name": "stdout",
     "output_type": "stream",
     "text": [
      "There are duplicated subjects False\n"
     ]
    }
   ],
   "source": [
    "print('There are duplicated subjects {}'.format(dfs['DTIConnect_SexSite']['src_subject_id'].duplicated().any()))"
   ]
  },
  {
   "cell_type": "markdown",
   "id": "8da25c72",
   "metadata": {},
   "source": [
    "# Inspect restingstatefmri_sexsite"
   ]
  },
  {
   "cell_type": "code",
   "execution_count": 106,
   "id": "fd7086aa",
   "metadata": {},
   "outputs": [
    {
     "name": "stdout",
     "output_type": "stream",
     "text": [
      "The DataFrame has 4050 rows.\n",
      "The DataFrame has 78 features.\n"
     ]
    }
   ],
   "source": [
    "row_count = len(dfs['restingstatefmri_sexsite'])\n",
    "print(f'The DataFrame has {row_count} rows.')\n",
    "column_names = list(dfs['restingstatefmri_sexsite'].columns.values)\n",
    "print(f'The DataFrame has {len(column_names)-1} features.')"
   ]
  },
  {
   "cell_type": "code",
   "execution_count": 107,
   "id": "c375ce41",
   "metadata": {},
   "outputs": [],
   "source": [
    "data_top = dfs['restingstatefmri_sexsite'].head()\n",
    "# print(data_top)"
   ]
  },
  {
   "cell_type": "code",
   "execution_count": 108,
   "id": "aa9ee008",
   "metadata": {},
   "outputs": [
    {
     "name": "stdout",
     "output_type": "stream",
     "text": [
      "src_subject_id                          0\n",
      "yr2_rsfmri_c_ngd_ad_ngd_ad_sexsite      0\n",
      "yr2_rsfmri_c_ngd_ad_ngd_cgc_sexsite     0\n",
      "yr2_rsfmri_c_ngd_ad_ngd_ca_sexsite      0\n",
      "yr2_rsfmri_c_ngd_ad_ngd_dt_sexsite      0\n",
      "                                       ..\n",
      "yr2_rsfmri_c_ngd_smm_ngd_vta_sexsite    0\n",
      "yr2_rsfmri_c_ngd_smm_ngd_vs_sexsite     0\n",
      "yr2_rsfmri_c_ngd_vta_ngd_vta_sexsite    0\n",
      "yr2_rsfmri_c_ngd_vta_ngd_vs_sexsite     0\n",
      "yr2_rsfmri_c_ngd_vs_ngd_vs_sexsite      0\n",
      "Length: 79, dtype: int64\n"
     ]
    }
   ],
   "source": [
    "column_nan_counts = dfs['restingstatefmri_sexsite'].isna().sum()\n",
    "print(column_nan_counts)"
   ]
  },
  {
   "cell_type": "code",
   "execution_count": 109,
   "id": "b8ef606f",
   "metadata": {},
   "outputs": [
    {
     "name": "stdout",
     "output_type": "stream",
     "text": [
      "There are duplicated subjects False\n"
     ]
    }
   ],
   "source": [
    "print('There are duplicated subjects {}'.format(dfs['restingstatefmri_sexsite']['src_subject_id'].duplicated().any()))"
   ]
  },
  {
   "cell_type": "markdown",
   "id": "5b4e58a7",
   "metadata": {},
   "source": [
    "# Shared subjects"
   ]
  },
  {
   "cell_type": "code",
   "execution_count": 110,
   "id": "84e2ab3b",
   "metadata": {},
   "outputs": [],
   "source": [
    "shared_subjects = set(dfs['outcome']['src_subject_id']).intersection(\\\n",
    "    set(dfs['DTIConnectData']['src_subject_id']),\\\n",
    "    set(dfs['restingstatedata']['src_subject_id']),\\\n",
    "    set(dfs['otherdata']['src_subject_id']),\\\n",
    "    set(dfs['corticalthicknesschange_sexsite']['src_subject_id']),\\\n",
    "    set(dfs['DTIConnect_SexSite']['src_subject_id']),\\\n",
    "    set(dfs['restingstatefmri_sexsite']['src_subject_id']))"
   ]
  },
  {
   "cell_type": "code",
   "execution_count": 111,
   "id": "1e2171f1",
   "metadata": {},
   "outputs": [],
   "source": [
    "filtered_dfs = {sheet_name: df[df['src_subject_id'].isin(shared_subjects)] for sheet_name, df in dfs.items()}"
   ]
  },
  {
   "cell_type": "code",
   "execution_count": 112,
   "id": "e1e8008f",
   "metadata": {},
   "outputs": [
    {
     "name": "stdout",
     "output_type": "stream",
     "text": [
      "In the filtered data frames, the number of subjects in each sheet is\n",
      "DTIConnectData 3811\n",
      "restingstatedata 3811\n",
      "WMtaskfmridata_Destreiux 3394\n",
      "WMtaskfmridata_APARC 3394\n",
      "otherdata 3811\n",
      "outcome 3811\n",
      "diffusivity 3811\n",
      "corticalthickness 3811\n",
      "corticalthicknesschange_sexsite 3811\n",
      "DTIConnect_SexSite 3811\n",
      "dontusechgcortthick 3811\n",
      "dontuseDTI 3811\n",
      "restingstatefmri_sexsite 3811\n"
     ]
    }
   ],
   "source": [
    "print('In the filtered data frames, the number of subjects in each sheet is')\n",
    "for sheet_name, df in filtered_dfs.items():\n",
    "    print(sheet_name, len(df))"
   ]
  },
  {
   "cell_type": "code",
   "execution_count": null,
   "id": "088f1e8f",
   "metadata": {},
   "outputs": [],
   "source": []
  }
 ],
 "metadata": {
  "kernelspec": {
   "display_name": "Python 3",
   "language": "python",
   "name": "python3"
  },
  "language_info": {
   "codemirror_mode": {
    "name": "ipython",
    "version": 3
   },
   "file_extension": ".py",
   "mimetype": "text/x-python",
   "name": "python",
   "nbconvert_exporter": "python",
   "pygments_lexer": "ipython3",
   "version": "3.8.10"
  }
 },
 "nbformat": 4,
 "nbformat_minor": 5
}
