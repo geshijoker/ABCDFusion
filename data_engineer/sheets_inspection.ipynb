{
 "cells": [
  {
   "cell_type": "code",
   "execution_count": 1,
   "id": "7e8b2026",
   "metadata": {},
   "outputs": [],
   "source": [
    "import os\n",
    "import errno\n",
    "import sys\n",
    "import time"
   ]
  },
  {
   "cell_type": "code",
   "execution_count": 2,
   "id": "697eb1f4",
   "metadata": {},
   "outputs": [],
   "source": [
    "import pandas as pd\n",
    "import sklearn \n",
    "import numpy as np\n",
    "import matplotlib.pyplot as plt"
   ]
  },
  {
   "cell_type": "code",
   "execution_count": 3,
   "id": "c47a9285",
   "metadata": {},
   "outputs": [],
   "source": [
    "ROOT_PATH = '../'\n",
    "ORIGINAL_DATA = 'data/DataforGe_v2.xlsx'"
   ]
  },
  {
   "cell_type": "code",
   "execution_count": 4,
   "id": "e2920b08",
   "metadata": {},
   "outputs": [],
   "source": [
    "orig_data_path = os.path.join(ROOT_PATH, ORIGINAL_DATA)"
   ]
  },
  {
   "cell_type": "code",
   "execution_count": 5,
   "id": "010349d5",
   "metadata": {},
   "outputs": [],
   "source": [
    "if os.path.isfile(orig_data_path):\n",
    "    dfs = pd.read_excel(orig_data_path, sheet_name=None)\n",
    "else:\n",
    "    raise FileNotFoundError(errno.ENOENT, os.strerror(errno.ENOENT), orig_data_path)"
   ]
  },
  {
   "cell_type": "code",
   "execution_count": 8,
   "id": "96c58108",
   "metadata": {},
   "outputs": [
    {
     "name": "stdout",
     "output_type": "stream",
     "text": [
      "The loaded panda frames are dict_keys(['DTIConnectData', 'restingstatedata', 'otherdata', 'outcome'])\n"
     ]
    }
   ],
   "source": [
    "sheet_names = dfs.keys()\n",
    "print('The loaded panda frames are', sheet_names)"
   ]
  },
  {
   "cell_type": "markdown",
   "id": "692bc54f",
   "metadata": {},
   "source": [
    "# Inspect outcome"
   ]
  },
  {
   "cell_type": "code",
   "execution_count": 12,
   "id": "30144197",
   "metadata": {},
   "outputs": [
    {
     "name": "stdout",
     "output_type": "stream",
     "text": [
      "The DataFrame has 5237 rows.\n",
      "The DataFrame has 1 features.\n"
     ]
    }
   ],
   "source": [
    "row_count = len(dfs['outcome'])\n",
    "print(f'The DataFrame has {row_count} rows.')\n",
    "column_names = list(dfs['outcome'].columns.values)\n",
    "print(f'The DataFrame has {len(column_names)-1} features.')"
   ]
  },
  {
   "cell_type": "code",
   "execution_count": 14,
   "id": "aa7444e7",
   "metadata": {},
   "outputs": [
    {
     "name": "stdout",
     "output_type": "stream",
     "text": [
      "     src_subject_id  becomeCHR_3yr\n",
      "0  NDAR_INV00CY2MDM              0\n",
      "1  NDAR_INV00HEV6HB              0\n",
      "2  NDAR_INV00LH735Y              0\n",
      "3  NDAR_INV014RTM1V              0\n",
      "4  NDAR_INV019DXLU4              0\n"
     ]
    }
   ],
   "source": [
    "data_top = dfs['outcome'].head()\n",
    "print(data_top)"
   ]
  },
  {
   "cell_type": "code",
   "execution_count": 28,
   "id": "0af163b8",
   "metadata": {},
   "outputs": [
    {
     "name": "stdout",
     "output_type": "stream",
     "text": [
      "src_subject_id    0\n",
      "becomeCHR_3yr     0\n",
      "dtype: int64\n"
     ]
    }
   ],
   "source": [
    "column_nan_counts = dfs['outcome'].isna().sum()\n",
    "print(column_nan_counts)"
   ]
  },
  {
   "cell_type": "code",
   "execution_count": 44,
   "id": "192120a3",
   "metadata": {},
   "outputs": [
    {
     "name": "stdout",
     "output_type": "stream",
     "text": [
      "There are duplicated subjects False\n"
     ]
    }
   ],
   "source": [
    "print('There are duplicated subjects {}'.format(dfs['outcome']['src_subject_id'].duplicated().any()))"
   ]
  },
  {
   "cell_type": "markdown",
   "id": "8679682d",
   "metadata": {},
   "source": [
    "# Inspect DTIConnectData"
   ]
  },
  {
   "cell_type": "code",
   "execution_count": 30,
   "id": "8f1bb663",
   "metadata": {},
   "outputs": [
    {
     "name": "stdout",
     "output_type": "stream",
     "text": [
      "The DataFrame has 7266 rows.\n",
      "The DataFrame has 33 features.\n"
     ]
    }
   ],
   "source": [
    "row_count = len(dfs['DTIConnectData'])\n",
    "print(f'The DataFrame has {row_count} rows.')\n",
    "column_names = list(dfs['DTIConnectData'].columns.values)\n",
    "print(f'The DataFrame has {len(column_names)-1} features.')"
   ]
  },
  {
   "cell_type": "code",
   "execution_count": 31,
   "id": "4ced4f5e",
   "metadata": {},
   "outputs": [],
   "source": [
    "data_top = dfs['DTIConnectData'].head()\n",
    "# print(data_top)"
   ]
  },
  {
   "cell_type": "code",
   "execution_count": 33,
   "id": "f3b5339f",
   "metadata": {},
   "outputs": [
    {
     "name": "stdout",
     "output_type": "stream",
     "text": [
      "src_subject_id                                      0\n",
      "imgincl_FA_include                                  0\n",
      "FA_All_agesexsite                                   0\n",
      "FA_cingulatecingulum_R_agesexsite                   0\n",
      "FA_CinguluteCingulum_L_agesexsite                   0\n",
      "FA_corpuscallosum_agesexsite                        0\n",
      "FA_Corticospinal_L_agesexsite                       0\n",
      "FA_Corticospinal_R_agesexsite                       0\n",
      "FA_forecepsmajor_agesexsite                         0\n",
      "FA_forecepsminor_agesexsite                         0\n",
      "FA_Fornix_L_agesexsite                              0\n",
      "FA_Fornix_R_agesexsite                              0\n",
      "FA_IFC_SupFrontal_L_agesexsite                      0\n",
      "FA_IFC_SupFrontal_R_agesexsite                      0\n",
      "FA_inferiorfrontooccipitalfasiculus_L_agesexsite    0\n",
      "FA_inferiorfrontooccipitalfasiculus_R_agesexsite    0\n",
      "FA_inferiorlongfascic_L_agesexsite                  0\n",
      "FA_inferiorlongfascic_R_agesexsite                  0\n",
      "FA_ParahippocampalCingulum_L_agesexsite             0\n",
      "FA_ParahippocampalCingulum_R_agesexsite             0\n",
      "FA_parietalSLF_L_agesexsite                         0\n",
      "FA_parietalSLF_R_agesexsite                         0\n",
      "FA_temporalSLF_L_agesexsite                         0\n",
      "FA_temporalSLF_R_agesexsite                         0\n",
      "FA_striatal_IFC_L_agesexsite                        0\n",
      "FA_striatal_IFC_R_agesexsite                        0\n",
      "FA_superiorcorticalstriate_Frontal_L_agesexsite     0\n",
      "FA_superiorcorticalstriate_Frontal_R_agesexsite     0\n",
      "FA_superiorcorticalstriate_Parietal_L_agesexsite    0\n",
      "FA_superiorcorticalstriate_Parietal_R_agesexsite    0\n",
      "FA_ThalamicRadiations_R_agesexsite                  0\n",
      "FA_thalamicradiations_L_agesexsite                  0\n",
      "FA_uncinate_L_agesexsite                            0\n",
      "FA_uncinate_R_agesexsite                            0\n",
      "dtype: int64\n"
     ]
    }
   ],
   "source": [
    "column_nan_counts = dfs['DTIConnectData'].isna().sum()\n",
    "print(column_nan_counts)"
   ]
  },
  {
   "cell_type": "code",
   "execution_count": 45,
   "id": "2a6473c1",
   "metadata": {},
   "outputs": [
    {
     "name": "stdout",
     "output_type": "stream",
     "text": [
      "There are duplicated subjects False\n"
     ]
    }
   ],
   "source": [
    "print('There are duplicated subjects {}'.format(dfs['DTIConnectData']['src_subject_id'].duplicated().any()))"
   ]
  },
  {
   "cell_type": "markdown",
   "id": "27b141ea",
   "metadata": {},
   "source": [
    "# Inspect restingstatedata"
   ]
  },
  {
   "cell_type": "code",
   "execution_count": 34,
   "id": "dd240cc0",
   "metadata": {},
   "outputs": [
    {
     "name": "stdout",
     "output_type": "stream",
     "text": [
      "The DataFrame has 6752 rows.\n",
      "The DataFrame has 271 features.\n"
     ]
    }
   ],
   "source": [
    "row_count = len(dfs['restingstatedata'])\n",
    "print(f'The DataFrame has {row_count} rows.')\n",
    "column_names = list(dfs['restingstatedata'].columns.values)\n",
    "print(f'The DataFrame has {len(column_names)-1} features.')"
   ]
  },
  {
   "cell_type": "code",
   "execution_count": 35,
   "id": "1bd750fe",
   "metadata": {},
   "outputs": [],
   "source": [
    "data_top = dfs['restingstatedata'].head()\n",
    "# print(data_top)"
   ]
  },
  {
   "cell_type": "code",
   "execution_count": 46,
   "id": "d083768f",
   "metadata": {
    "scrolled": false
   },
   "outputs": [
    {
     "name": "stdout",
     "output_type": "stream",
     "text": [
      "src_subject_id                         0\n",
      "imgincl_rsfmri_include                 0\n",
      "auditory_auditory_agesexsite           0\n",
      "auditory_cingulooper_agesexsite        0\n",
      "auditory_cinguloparietal_agesexsite    0\n",
      "                                      ..\n",
      "VIS_pallidumR_agesexsite               0\n",
      "VIS_putamenL_agesexsite                0\n",
      "VIS_putamenR_agesexsite                0\n",
      "VIS_thalamusL_agesexsite               0\n",
      "VIS_thalamusR_agesexsite               0\n",
      "Length: 272, dtype: int64\n"
     ]
    }
   ],
   "source": [
    "column_nan_counts = dfs['restingstatedata'].isna().sum()\n",
    "print(column_nan_counts)"
   ]
  },
  {
   "cell_type": "code",
   "execution_count": 47,
   "id": "4b146421",
   "metadata": {},
   "outputs": [
    {
     "name": "stdout",
     "output_type": "stream",
     "text": [
      "There are duplicated subjects False\n"
     ]
    }
   ],
   "source": [
    "print('There are duplicated subjects {}'.format(dfs['restingstatedata']['src_subject_id'].duplicated().any()))"
   ]
  },
  {
   "cell_type": "markdown",
   "id": "dcd00c65",
   "metadata": {},
   "source": [
    "# Inspect otherdata"
   ]
  },
  {
   "cell_type": "code",
   "execution_count": 37,
   "id": "cc4456db",
   "metadata": {},
   "outputs": [
    {
     "name": "stdout",
     "output_type": "stream",
     "text": [
      "The DataFrame has 5237 rows.\n",
      "The DataFrame has 7 features.\n"
     ]
    }
   ],
   "source": [
    "row_count = len(dfs['otherdata'])\n",
    "print(f'The DataFrame has {row_count} rows.')\n",
    "column_names = list(dfs['otherdata'].columns.values)\n",
    "print(f'The DataFrame has {len(column_names)-1} features.')"
   ]
  },
  {
   "cell_type": "code",
   "execution_count": 38,
   "id": "c15cafda",
   "metadata": {},
   "outputs": [
    {
     "name": "stdout",
     "output_type": "stream",
     "text": [
      "     src_subject_id  ageat2yr  ravlt_sumtc_2yr  nihtbx_pattern_raw_2yr  \\\n",
      "0  NDAR_INV00CY2MDM      12.0               58                      46   \n",
      "1  NDAR_INV00HEV6HB      12.0               56                      45   \n",
      "2  NDAR_INV00LH735Y      11.0               83                      40   \n",
      "3  NDAR_INV014RTM1V      11.0               76                      45   \n",
      "4  NDAR_INV019DXLU4      12.0               74                      42   \n",
      "\n",
      "   SumNegLifeEvents  N_Trauma_Types  fam_history_8_yes_no  dropingrades_2yr  \n",
      "0                 6               2                     0                 1  \n",
      "1                 3               1                     0                 1  \n",
      "2                 4               0                     0                 0  \n",
      "3                 7               0                     0                 0  \n",
      "4                 7               3                     0                 0  \n"
     ]
    }
   ],
   "source": [
    "data_top = dfs['otherdata'].head()\n",
    "print(data_top)"
   ]
  },
  {
   "cell_type": "code",
   "execution_count": 39,
   "id": "24066ca9",
   "metadata": {},
   "outputs": [
    {
     "name": "stdout",
     "output_type": "stream",
     "text": [
      "src_subject_id            0\n",
      "ageat2yr                  0\n",
      "ravlt_sumtc_2yr           0\n",
      "nihtbx_pattern_raw_2yr    0\n",
      "SumNegLifeEvents          0\n",
      "N_Trauma_Types            0\n",
      "fam_history_8_yes_no      0\n",
      "dropingrades_2yr          0\n",
      "dtype: int64\n"
     ]
    }
   ],
   "source": [
    "column_nan_counts = dfs['otherdata'].isna().sum()\n",
    "print(column_nan_counts)"
   ]
  },
  {
   "cell_type": "code",
   "execution_count": 48,
   "id": "44c3f0d8",
   "metadata": {},
   "outputs": [
    {
     "name": "stdout",
     "output_type": "stream",
     "text": [
      "There are duplicated subjects False\n"
     ]
    }
   ],
   "source": [
    "print('There are duplicated subjects {}'.format(dfs['otherdata']['src_subject_id'].duplicated().any()))"
   ]
  },
  {
   "cell_type": "markdown",
   "id": "2cdbd4f7",
   "metadata": {},
   "source": [
    "# Shared subjects"
   ]
  },
  {
   "cell_type": "code",
   "execution_count": 50,
   "id": "72a79aee",
   "metadata": {},
   "outputs": [],
   "source": [
    "shared_subjects = set(dfs['outcome']['src_subject_id']).intersection(\\\n",
    "    set(dfs['DTIConnectData']['src_subject_id']),\\\n",
    "    set(dfs['restingstatedata']['src_subject_id']),\\\n",
    "    set(dfs['otherdata']['src_subject_id']))"
   ]
  },
  {
   "cell_type": "code",
   "execution_count": 57,
   "id": "e5d4b69a",
   "metadata": {},
   "outputs": [],
   "source": [
    "filtered_dfs = {sheet_name: df[df['src_subject_id'].isin(shared_subjects)] for sheet_name, df in dfs.items()}"
   ]
  },
  {
   "cell_type": "code",
   "execution_count": 55,
   "id": "16604775",
   "metadata": {},
   "outputs": [
    {
     "name": "stdout",
     "output_type": "stream",
     "text": [
      "<class 'pandas.core.frame.DataFrame'>\n",
      "<class 'pandas.core.frame.DataFrame'>\n",
      "<class 'pandas.core.frame.DataFrame'>\n",
      "<class 'pandas.core.frame.DataFrame'>\n"
     ]
    }
   ],
   "source": [
    "print('In the filtered data frames, the number of subjects in each sheet is')\n",
    "for sheet_name, df in filtered_dfs.items():\n",
    "    print(sheet_name, len(df))"
   ]
  },
  {
   "cell_type": "code",
   "execution_count": null,
   "id": "4c48f3c8",
   "metadata": {},
   "outputs": [],
   "source": []
  }
 ],
 "metadata": {
  "kernelspec": {
   "display_name": "Python 3",
   "language": "python",
   "name": "python3"
  },
  "language_info": {
   "codemirror_mode": {
    "name": "ipython",
    "version": 3
   },
   "file_extension": ".py",
   "mimetype": "text/x-python",
   "name": "python",
   "nbconvert_exporter": "python",
   "pygments_lexer": "ipython3",
   "version": "3.8.10"
  }
 },
 "nbformat": 4,
 "nbformat_minor": 5
}
